{
 "cells": [
  {
   "cell_type": "markdown",
   "metadata": {},
   "source": [
    "# MILESTONES 2\n",
    "\n",
    "`Rizqi Rizmayani Putri Batch 002`"
   ]
  },
  {
   "cell_type": "markdown",
   "metadata": {},
   "source": [
    "## Problem Statement\n",
    "\n",
    "Kementerian pendidikan sedang berencana untuk merevisi kurikulum dengan menambahkan kelas tambahan untuk siswa yang mempunyai nilai akhir dibawah nilai yang ditentukan. Untuk memenuhi kebutuhan tersebut, maka dibentuklah tim data analis dengan tujuan untuk memprediksi siswa yang mempunyai niai dibawah nilai yang ditentukan."
   ]
  },
  {
   "cell_type": "markdown",
   "metadata": {},
   "source": [
    "#### Streamlit Link\n",
    "https://huggingface.co/spaces/rizqirizmayani/Rizqi_Rizmayani_HCK002"
   ]
  },
  {
   "cell_type": "markdown",
   "metadata": {},
   "source": [
    "### IMPORT LIBRARY"
   ]
  },
  {
   "cell_type": "code",
   "execution_count": 1,
   "metadata": {},
   "outputs": [],
   "source": [
    "import pandas as pd\n",
    "import numpy as np\n",
    "from scipy import stats\n",
    "import matplotlib.pyplot as plt\n",
    "import seaborn as sns\n",
    "\n",
    "\n",
    "from sklearn.model_selection import train_test_split\n",
    "from sklearn.preprocessing import StandardScaler, MinMaxScaler, OneHotEncoder, OrdinalEncoder\n",
    "from sklearn.tree import DecisionTreeRegressor\n",
    "from sklearn.pipeline import Pipeline\n",
    "from sklearn.compose import ColumnTransformer\n",
    "from sklearn.neighbors import NearestNeighbors, KNeighborsClassifier\n",
    "from sklearn.tree import DecisionTreeClassifier\n",
    "from sklearn.ensemble import RandomForestClassifier\n",
    "from sklearn.ensemble import AdaBoostClassifier\n",
    "from sklearn.metrics import roc_curve, auc,roc_auc_score\n",
    "from sklearn.model_selection import cross_val_score\n",
    "from sklearn.model_selection import GridSearchCV\n",
    "from sklearn.metrics import accuracy_score,classification_report,ConfusionMatrixDisplay,confusion_matrix\n",
    "from imblearn.datasets import make_imbalance\n",
    "\n",
    "import warnings\n",
    "warnings.filterwarnings(\"ignore\")"
   ]
  },
  {
   "cell_type": "markdown",
   "metadata": {},
   "source": [
    "### LOAD DATA AND OVERVIEW"
   ]
  },
  {
   "cell_type": "code",
   "execution_count": 2,
   "metadata": {},
   "outputs": [],
   "source": [
    "df = pd.read_csv('test_scores.csv')"
   ]
  },
  {
   "cell_type": "code",
   "execution_count": 3,
   "metadata": {},
   "outputs": [
    {
     "data": {
      "text/html": [
       "<div>\n",
       "<style scoped>\n",
       "    .dataframe tbody tr th:only-of-type {\n",
       "        vertical-align: middle;\n",
       "    }\n",
       "\n",
       "    .dataframe tbody tr th {\n",
       "        vertical-align: top;\n",
       "    }\n",
       "\n",
       "    .dataframe thead th {\n",
       "        text-align: right;\n",
       "    }\n",
       "</style>\n",
       "<table border=\"1\" class=\"dataframe\">\n",
       "  <thead>\n",
       "    <tr style=\"text-align: right;\">\n",
       "      <th></th>\n",
       "      <th>school</th>\n",
       "      <th>school_setting</th>\n",
       "      <th>school_type</th>\n",
       "      <th>classroom</th>\n",
       "      <th>teaching_method</th>\n",
       "      <th>n_student</th>\n",
       "      <th>student_id</th>\n",
       "      <th>gender</th>\n",
       "      <th>lunch</th>\n",
       "      <th>pretest</th>\n",
       "      <th>posttest</th>\n",
       "    </tr>\n",
       "  </thead>\n",
       "  <tbody>\n",
       "    <tr>\n",
       "      <th>0</th>\n",
       "      <td>ANKYI</td>\n",
       "      <td>Urban</td>\n",
       "      <td>Non-public</td>\n",
       "      <td>6OL</td>\n",
       "      <td>Standard</td>\n",
       "      <td>20.0</td>\n",
       "      <td>2FHT3</td>\n",
       "      <td>Female</td>\n",
       "      <td>Does not qualify</td>\n",
       "      <td>62.0</td>\n",
       "      <td>72.0</td>\n",
       "    </tr>\n",
       "    <tr>\n",
       "      <th>1</th>\n",
       "      <td>ANKYI</td>\n",
       "      <td>Urban</td>\n",
       "      <td>Non-public</td>\n",
       "      <td>6OL</td>\n",
       "      <td>Standard</td>\n",
       "      <td>20.0</td>\n",
       "      <td>3JIVH</td>\n",
       "      <td>Female</td>\n",
       "      <td>Does not qualify</td>\n",
       "      <td>66.0</td>\n",
       "      <td>79.0</td>\n",
       "    </tr>\n",
       "  </tbody>\n",
       "</table>\n",
       "</div>"
      ],
      "text/plain": [
       "  school school_setting school_type classroom teaching_method  n_student  \\\n",
       "0  ANKYI          Urban  Non-public       6OL        Standard       20.0   \n",
       "1  ANKYI          Urban  Non-public       6OL        Standard       20.0   \n",
       "\n",
       "  student_id  gender             lunch  pretest  posttest  \n",
       "0      2FHT3  Female  Does not qualify     62.0      72.0  \n",
       "1      3JIVH  Female  Does not qualify     66.0      79.0  "
      ]
     },
     "execution_count": 3,
     "metadata": {},
     "output_type": "execute_result"
    }
   ],
   "source": [
    "df.head(2)"
   ]
  },
  {
   "cell_type": "code",
   "execution_count": 4,
   "metadata": {},
   "outputs": [
    {
     "data": {
      "text/html": [
       "<div>\n",
       "<style scoped>\n",
       "    .dataframe tbody tr th:only-of-type {\n",
       "        vertical-align: middle;\n",
       "    }\n",
       "\n",
       "    .dataframe tbody tr th {\n",
       "        vertical-align: top;\n",
       "    }\n",
       "\n",
       "    .dataframe thead th {\n",
       "        text-align: right;\n",
       "    }\n",
       "</style>\n",
       "<table border=\"1\" class=\"dataframe\">\n",
       "  <thead>\n",
       "    <tr style=\"text-align: right;\">\n",
       "      <th></th>\n",
       "      <th>school</th>\n",
       "      <th>school_setting</th>\n",
       "      <th>school_type</th>\n",
       "      <th>classroom</th>\n",
       "      <th>teaching_method</th>\n",
       "      <th>n_student</th>\n",
       "      <th>student_id</th>\n",
       "      <th>gender</th>\n",
       "      <th>lunch</th>\n",
       "      <th>pretest</th>\n",
       "      <th>posttest</th>\n",
       "    </tr>\n",
       "  </thead>\n",
       "  <tbody>\n",
       "    <tr>\n",
       "      <th>2131</th>\n",
       "      <td>ZOWMK</td>\n",
       "      <td>Urban</td>\n",
       "      <td>Public</td>\n",
       "      <td>ZBH</td>\n",
       "      <td>Standard</td>\n",
       "      <td>30.0</td>\n",
       "      <td>YUEIH</td>\n",
       "      <td>Male</td>\n",
       "      <td>Qualifies for reduced/free lunch</td>\n",
       "      <td>46.0</td>\n",
       "      <td>53.0</td>\n",
       "    </tr>\n",
       "    <tr>\n",
       "      <th>2132</th>\n",
       "      <td>ZOWMK</td>\n",
       "      <td>Urban</td>\n",
       "      <td>Public</td>\n",
       "      <td>ZBH</td>\n",
       "      <td>Standard</td>\n",
       "      <td>30.0</td>\n",
       "      <td>ZVCQ8</td>\n",
       "      <td>Male</td>\n",
       "      <td>Qualifies for reduced/free lunch</td>\n",
       "      <td>41.0</td>\n",
       "      <td>48.0</td>\n",
       "    </tr>\n",
       "  </tbody>\n",
       "</table>\n",
       "</div>"
      ],
      "text/plain": [
       "     school school_setting school_type classroom teaching_method  n_student  \\\n",
       "2131  ZOWMK          Urban      Public       ZBH        Standard       30.0   \n",
       "2132  ZOWMK          Urban      Public       ZBH        Standard       30.0   \n",
       "\n",
       "     student_id gender                             lunch  pretest  posttest  \n",
       "2131      YUEIH   Male  Qualifies for reduced/free lunch     46.0      53.0  \n",
       "2132      ZVCQ8   Male  Qualifies for reduced/free lunch     41.0      48.0  "
      ]
     },
     "execution_count": 4,
     "metadata": {},
     "output_type": "execute_result"
    }
   ],
   "source": [
    "df.tail(2)"
   ]
  },
  {
   "cell_type": "code",
   "execution_count": 5,
   "metadata": {},
   "outputs": [
    {
     "name": "stdout",
     "output_type": "stream",
     "text": [
      "<class 'pandas.core.frame.DataFrame'>\n",
      "RangeIndex: 2133 entries, 0 to 2132\n",
      "Data columns (total 11 columns):\n",
      " #   Column           Non-Null Count  Dtype  \n",
      "---  ------           --------------  -----  \n",
      " 0   school           2133 non-null   object \n",
      " 1   school_setting   2133 non-null   object \n",
      " 2   school_type      2133 non-null   object \n",
      " 3   classroom        2133 non-null   object \n",
      " 4   teaching_method  2133 non-null   object \n",
      " 5   n_student        2133 non-null   float64\n",
      " 6   student_id       2133 non-null   object \n",
      " 7   gender           2133 non-null   object \n",
      " 8   lunch            2133 non-null   object \n",
      " 9   pretest          2133 non-null   float64\n",
      " 10  posttest         2133 non-null   float64\n",
      "dtypes: float64(3), object(8)\n",
      "memory usage: 183.4+ KB\n"
     ]
    }
   ],
   "source": [
    "df.info()"
   ]
  },
  {
   "cell_type": "code",
   "execution_count": 6,
   "metadata": {},
   "outputs": [
    {
     "data": {
      "text/plain": [
       "(0, 11)"
      ]
     },
     "execution_count": 6,
     "metadata": {},
     "output_type": "execute_result"
    }
   ],
   "source": [
    "df[df.duplicated()].shape"
   ]
  },
  {
   "cell_type": "code",
   "execution_count": 7,
   "metadata": {},
   "outputs": [
    {
     "data": {
      "text/plain": [
       "school             0\n",
       "school_setting     0\n",
       "school_type        0\n",
       "classroom          0\n",
       "teaching_method    0\n",
       "n_student          0\n",
       "student_id         0\n",
       "gender             0\n",
       "lunch              0\n",
       "pretest            0\n",
       "posttest           0\n",
       "dtype: int64"
      ]
     },
     "execution_count": 7,
     "metadata": {},
     "output_type": "execute_result"
    }
   ],
   "source": [
    "df.isnull().sum()"
   ]
  },
  {
   "cell_type": "code",
   "execution_count": 8,
   "metadata": {},
   "outputs": [
    {
     "data": {
      "text/plain": [
       "(2133, 11)"
      ]
     },
     "execution_count": 8,
     "metadata": {},
     "output_type": "execute_result"
    }
   ],
   "source": [
    "df.shape"
   ]
  },
  {
   "cell_type": "code",
   "execution_count": 9,
   "metadata": {},
   "outputs": [],
   "source": [
    "numerical = df.describe().columns.tolist()\n",
    "categorical = df.select_dtypes(include=['object']).columns.tolist()"
   ]
  },
  {
   "cell_type": "code",
   "execution_count": 10,
   "metadata": {},
   "outputs": [
    {
     "data": {
      "text/html": [
       "<div>\n",
       "<style scoped>\n",
       "    .dataframe tbody tr th:only-of-type {\n",
       "        vertical-align: middle;\n",
       "    }\n",
       "\n",
       "    .dataframe tbody tr th {\n",
       "        vertical-align: top;\n",
       "    }\n",
       "\n",
       "    .dataframe thead th {\n",
       "        text-align: right;\n",
       "    }\n",
       "</style>\n",
       "<table border=\"1\" class=\"dataframe\">\n",
       "  <thead>\n",
       "    <tr style=\"text-align: right;\">\n",
       "      <th></th>\n",
       "      <th>count</th>\n",
       "      <th>mean</th>\n",
       "      <th>std</th>\n",
       "      <th>min</th>\n",
       "      <th>25%</th>\n",
       "      <th>50%</th>\n",
       "      <th>75%</th>\n",
       "      <th>max</th>\n",
       "    </tr>\n",
       "  </thead>\n",
       "  <tbody>\n",
       "    <tr>\n",
       "      <th>n_student</th>\n",
       "      <td>2133.0</td>\n",
       "      <td>22.796531</td>\n",
       "      <td>4.228893</td>\n",
       "      <td>14.0</td>\n",
       "      <td>20.0</td>\n",
       "      <td>22.0</td>\n",
       "      <td>27.0</td>\n",
       "      <td>31.0</td>\n",
       "    </tr>\n",
       "    <tr>\n",
       "      <th>pretest</th>\n",
       "      <td>2133.0</td>\n",
       "      <td>54.955931</td>\n",
       "      <td>13.563101</td>\n",
       "      <td>22.0</td>\n",
       "      <td>44.0</td>\n",
       "      <td>56.0</td>\n",
       "      <td>65.0</td>\n",
       "      <td>93.0</td>\n",
       "    </tr>\n",
       "    <tr>\n",
       "      <th>posttest</th>\n",
       "      <td>2133.0</td>\n",
       "      <td>67.102203</td>\n",
       "      <td>13.986789</td>\n",
       "      <td>32.0</td>\n",
       "      <td>56.0</td>\n",
       "      <td>68.0</td>\n",
       "      <td>77.0</td>\n",
       "      <td>100.0</td>\n",
       "    </tr>\n",
       "  </tbody>\n",
       "</table>\n",
       "</div>"
      ],
      "text/plain": [
       "            count       mean        std   min   25%   50%   75%    max\n",
       "n_student  2133.0  22.796531   4.228893  14.0  20.0  22.0  27.0   31.0\n",
       "pretest    2133.0  54.955931  13.563101  22.0  44.0  56.0  65.0   93.0\n",
       "posttest   2133.0  67.102203  13.986789  32.0  56.0  68.0  77.0  100.0"
      ]
     },
     "execution_count": 10,
     "metadata": {},
     "output_type": "execute_result"
    }
   ],
   "source": [
    "df[numerical].describe().T"
   ]
  },
  {
   "cell_type": "code",
   "execution_count": 11,
   "metadata": {},
   "outputs": [
    {
     "name": "stdout",
     "output_type": "stream",
     "text": [
      "school\n",
      "\n",
      "GOOBU    158\n",
      "QOQTS    149\n",
      "UKPGS    128\n",
      "DNQDD    122\n",
      "GJJHK    118\n",
      "ZOWMK    117\n",
      "VVTVA    114\n",
      "KZKKE    111\n",
      "CCAAW    109\n",
      "CUQAM    107\n",
      "VKWQH    100\n",
      "IDGFP     94\n",
      "UAGPU     87\n",
      "UUUQX     84\n",
      "OJOBU     81\n",
      "CIMBB     74\n",
      "ZMNYA     69\n",
      "GOKXL     64\n",
      "LAYPA     57\n",
      "KFZMY     52\n",
      "VHDHF     51\n",
      "FBUMG     46\n",
      "ANKYI     41\n",
      "Name: school, dtype: int64\n",
      "----------\n",
      "school_setting\n",
      "\n",
      "Urban       906\n",
      "Suburban    717\n",
      "Rural       510\n",
      "Name: school_setting, dtype: int64\n",
      "----------\n",
      "school_type\n",
      "\n",
      "Public        1582\n",
      "Non-public     551\n",
      "Name: school_type, dtype: int64\n",
      "----------\n",
      "classroom\n",
      "\n",
      "18K    31\n",
      "ZBH    30\n",
      "QA2    30\n",
      "Q0E    30\n",
      "YTB    30\n",
      "       ..\n",
      "SSP    15\n",
      "KR1    15\n",
      "IQN    15\n",
      "JGD    14\n",
      "197    14\n",
      "Name: classroom, Length: 97, dtype: int64\n",
      "----------\n",
      "teaching_method\n",
      "\n",
      "Standard        1373\n",
      "Experimental     760\n",
      "Name: teaching_method, dtype: int64\n",
      "----------\n",
      "student_id\n",
      "\n",
      "2FHT3    1\n",
      "P5X30    1\n",
      "7NE6P    1\n",
      "36YGH    1\n",
      "2GDJ8    1\n",
      "        ..\n",
      "X01MT    1\n",
      "VMAIX    1\n",
      "VIVT4    1\n",
      "V3J4V    1\n",
      "ZVCQ8    1\n",
      "Name: student_id, Length: 2133, dtype: int64\n",
      "----------\n",
      "gender\n",
      "\n",
      "Male      1077\n",
      "Female    1056\n",
      "Name: gender, dtype: int64\n",
      "----------\n",
      "lunch\n",
      "\n",
      "Does not qualify                    1215\n",
      "Qualifies for reduced/free lunch     918\n",
      "Name: lunch, dtype: int64\n",
      "----------\n"
     ]
    }
   ],
   "source": [
    "for i in categorical:\n",
    "    print(i)\n",
    "    print()\n",
    "    print(df[i].value_counts())\n",
    "    print('-' * 10)"
   ]
  },
  {
   "cell_type": "markdown",
   "metadata": {},
   "source": [
    "Berdasarkan data loading dan overview didapatkan informasi sebagai berikut:\n",
    "- tidak terdapatnya missing value\n",
    "- tidak terdapatnya data duplicated\n",
    "- data numerikal terdiri dari kolom : n_studend, pretest dan postest\n",
    "- data kategorikal terdiri dari kolom : school, school_setting, school_type, classroom, teaching_method, student_id, gender dan lunch"
   ]
  },
  {
   "cell_type": "markdown",
   "metadata": {},
   "source": [
    "### DATA CLEANING"
   ]
  },
  {
   "cell_type": "code",
   "execution_count": 12,
   "metadata": {},
   "outputs": [
    {
     "data": {
      "text/html": [
       "<div>\n",
       "<style scoped>\n",
       "    .dataframe tbody tr th:only-of-type {\n",
       "        vertical-align: middle;\n",
       "    }\n",
       "\n",
       "    .dataframe tbody tr th {\n",
       "        vertical-align: top;\n",
       "    }\n",
       "\n",
       "    .dataframe thead th {\n",
       "        text-align: right;\n",
       "    }\n",
       "</style>\n",
       "<table border=\"1\" class=\"dataframe\">\n",
       "  <thead>\n",
       "    <tr style=\"text-align: right;\">\n",
       "      <th></th>\n",
       "      <th>school</th>\n",
       "      <th>school_setting</th>\n",
       "      <th>school_type</th>\n",
       "      <th>classroom</th>\n",
       "      <th>teaching_method</th>\n",
       "      <th>n_student</th>\n",
       "      <th>student_id</th>\n",
       "      <th>gender</th>\n",
       "      <th>lunch</th>\n",
       "      <th>pretest</th>\n",
       "      <th>posttest</th>\n",
       "    </tr>\n",
       "  </thead>\n",
       "  <tbody>\n",
       "    <tr>\n",
       "      <th>0</th>\n",
       "      <td>ANKYI</td>\n",
       "      <td>Urban</td>\n",
       "      <td>Non-public</td>\n",
       "      <td>6OL</td>\n",
       "      <td>Standard</td>\n",
       "      <td>20.0</td>\n",
       "      <td>2FHT3</td>\n",
       "      <td>Female</td>\n",
       "      <td>Does not qualify</td>\n",
       "      <td>62.0</td>\n",
       "      <td>72.0</td>\n",
       "    </tr>\n",
       "    <tr>\n",
       "      <th>1</th>\n",
       "      <td>ANKYI</td>\n",
       "      <td>Urban</td>\n",
       "      <td>Non-public</td>\n",
       "      <td>6OL</td>\n",
       "      <td>Standard</td>\n",
       "      <td>20.0</td>\n",
       "      <td>3JIVH</td>\n",
       "      <td>Female</td>\n",
       "      <td>Does not qualify</td>\n",
       "      <td>66.0</td>\n",
       "      <td>79.0</td>\n",
       "    </tr>\n",
       "  </tbody>\n",
       "</table>\n",
       "</div>"
      ],
      "text/plain": [
       "  school school_setting school_type classroom teaching_method  n_student  \\\n",
       "0  ANKYI          Urban  Non-public       6OL        Standard       20.0   \n",
       "1  ANKYI          Urban  Non-public       6OL        Standard       20.0   \n",
       "\n",
       "  student_id  gender             lunch  pretest  posttest  \n",
       "0      2FHT3  Female  Does not qualify     62.0      72.0  \n",
       "1      3JIVH  Female  Does not qualify     66.0      79.0  "
      ]
     },
     "execution_count": 12,
     "metadata": {},
     "output_type": "execute_result"
    }
   ],
   "source": [
    "df_clean = df.copy()\n",
    "df_clean.head(2)"
   ]
  },
  {
   "cell_type": "code",
   "execution_count": 13,
   "metadata": {},
   "outputs": [],
   "source": [
    "column_list = ['school','classroom','student_id']\n",
    "df_clean = df_clean.drop(column_list, axis=1)"
   ]
  },
  {
   "cell_type": "code",
   "execution_count": 14,
   "metadata": {},
   "outputs": [
    {
     "data": {
      "text/html": [
       "<div>\n",
       "<style scoped>\n",
       "    .dataframe tbody tr th:only-of-type {\n",
       "        vertical-align: middle;\n",
       "    }\n",
       "\n",
       "    .dataframe tbody tr th {\n",
       "        vertical-align: top;\n",
       "    }\n",
       "\n",
       "    .dataframe thead th {\n",
       "        text-align: right;\n",
       "    }\n",
       "</style>\n",
       "<table border=\"1\" class=\"dataframe\">\n",
       "  <thead>\n",
       "    <tr style=\"text-align: right;\">\n",
       "      <th></th>\n",
       "      <th>school_setting</th>\n",
       "      <th>school_type</th>\n",
       "      <th>teaching_method</th>\n",
       "      <th>n_student</th>\n",
       "      <th>gender</th>\n",
       "      <th>lunch</th>\n",
       "      <th>pretest</th>\n",
       "      <th>posttest</th>\n",
       "    </tr>\n",
       "  </thead>\n",
       "  <tbody>\n",
       "    <tr>\n",
       "      <th>0</th>\n",
       "      <td>Urban</td>\n",
       "      <td>Non-public</td>\n",
       "      <td>Standard</td>\n",
       "      <td>20.0</td>\n",
       "      <td>Female</td>\n",
       "      <td>Does not qualify</td>\n",
       "      <td>62.0</td>\n",
       "      <td>72.0</td>\n",
       "    </tr>\n",
       "    <tr>\n",
       "      <th>1</th>\n",
       "      <td>Urban</td>\n",
       "      <td>Non-public</td>\n",
       "      <td>Standard</td>\n",
       "      <td>20.0</td>\n",
       "      <td>Female</td>\n",
       "      <td>Does not qualify</td>\n",
       "      <td>66.0</td>\n",
       "      <td>79.0</td>\n",
       "    </tr>\n",
       "  </tbody>\n",
       "</table>\n",
       "</div>"
      ],
      "text/plain": [
       "  school_setting school_type teaching_method  n_student  gender  \\\n",
       "0          Urban  Non-public        Standard       20.0  Female   \n",
       "1          Urban  Non-public        Standard       20.0  Female   \n",
       "\n",
       "              lunch  pretest  posttest  \n",
       "0  Does not qualify     62.0      72.0  \n",
       "1  Does not qualify     66.0      79.0  "
      ]
     },
     "execution_count": 14,
     "metadata": {},
     "output_type": "execute_result"
    }
   ],
   "source": [
    "df_clean.head(2)"
   ]
  },
  {
   "cell_type": "code",
   "execution_count": 15,
   "metadata": {},
   "outputs": [],
   "source": [
    "df_clean['student_n']=0\n",
    "for i in df_clean.index:\n",
    "  if df_clean[\"n_student\"][i]<=20:\n",
    "    df_clean[\"student_n\"][i]= 0\n",
    "  else:\n",
    "    df_clean[\"student_n\"][i]=1"
   ]
  },
  {
   "cell_type": "code",
   "execution_count": 16,
   "metadata": {},
   "outputs": [],
   "source": [
    "df_clean['pre_test']=0\n",
    "for i in df_clean.index:\n",
    "  if df_clean[\"pretest\"][i]<70:\n",
    "    df_clean[\"pre_test\"][i]= 1\n",
    "  else:\n",
    "    df_clean[\"pre_test\"][i]=0"
   ]
  },
  {
   "cell_type": "code",
   "execution_count": 17,
   "metadata": {},
   "outputs": [],
   "source": [
    "df_clean['post_test']=0\n",
    "for i in df_clean.index:\n",
    "  if df_clean[\"posttest\"][i]<70:\n",
    "    df_clean[\"post_test\"][i]= 1\n",
    "  else:\n",
    "    df_clean[\"post_test\"][i]=0"
   ]
  },
  {
   "cell_type": "code",
   "execution_count": 18,
   "metadata": {},
   "outputs": [
    {
     "data": {
      "text/html": [
       "<div>\n",
       "<style scoped>\n",
       "    .dataframe tbody tr th:only-of-type {\n",
       "        vertical-align: middle;\n",
       "    }\n",
       "\n",
       "    .dataframe tbody tr th {\n",
       "        vertical-align: top;\n",
       "    }\n",
       "\n",
       "    .dataframe thead th {\n",
       "        text-align: right;\n",
       "    }\n",
       "</style>\n",
       "<table border=\"1\" class=\"dataframe\">\n",
       "  <thead>\n",
       "    <tr style=\"text-align: right;\">\n",
       "      <th></th>\n",
       "      <th>school_setting</th>\n",
       "      <th>school_type</th>\n",
       "      <th>teaching_method</th>\n",
       "      <th>n_student</th>\n",
       "      <th>gender</th>\n",
       "      <th>lunch</th>\n",
       "      <th>pretest</th>\n",
       "      <th>posttest</th>\n",
       "      <th>student_n</th>\n",
       "      <th>pre_test</th>\n",
       "      <th>post_test</th>\n",
       "    </tr>\n",
       "  </thead>\n",
       "  <tbody>\n",
       "    <tr>\n",
       "      <th>0</th>\n",
       "      <td>Urban</td>\n",
       "      <td>Non-public</td>\n",
       "      <td>Standard</td>\n",
       "      <td>20.0</td>\n",
       "      <td>Female</td>\n",
       "      <td>Does not qualify</td>\n",
       "      <td>62.0</td>\n",
       "      <td>72.0</td>\n",
       "      <td>0</td>\n",
       "      <td>1</td>\n",
       "      <td>0</td>\n",
       "    </tr>\n",
       "    <tr>\n",
       "      <th>1</th>\n",
       "      <td>Urban</td>\n",
       "      <td>Non-public</td>\n",
       "      <td>Standard</td>\n",
       "      <td>20.0</td>\n",
       "      <td>Female</td>\n",
       "      <td>Does not qualify</td>\n",
       "      <td>66.0</td>\n",
       "      <td>79.0</td>\n",
       "      <td>0</td>\n",
       "      <td>1</td>\n",
       "      <td>0</td>\n",
       "    </tr>\n",
       "    <tr>\n",
       "      <th>2</th>\n",
       "      <td>Urban</td>\n",
       "      <td>Non-public</td>\n",
       "      <td>Standard</td>\n",
       "      <td>20.0</td>\n",
       "      <td>Male</td>\n",
       "      <td>Does not qualify</td>\n",
       "      <td>64.0</td>\n",
       "      <td>76.0</td>\n",
       "      <td>0</td>\n",
       "      <td>1</td>\n",
       "      <td>0</td>\n",
       "    </tr>\n",
       "    <tr>\n",
       "      <th>3</th>\n",
       "      <td>Urban</td>\n",
       "      <td>Non-public</td>\n",
       "      <td>Standard</td>\n",
       "      <td>20.0</td>\n",
       "      <td>Female</td>\n",
       "      <td>Does not qualify</td>\n",
       "      <td>61.0</td>\n",
       "      <td>77.0</td>\n",
       "      <td>0</td>\n",
       "      <td>1</td>\n",
       "      <td>0</td>\n",
       "    </tr>\n",
       "    <tr>\n",
       "      <th>4</th>\n",
       "      <td>Urban</td>\n",
       "      <td>Non-public</td>\n",
       "      <td>Standard</td>\n",
       "      <td>20.0</td>\n",
       "      <td>Male</td>\n",
       "      <td>Does not qualify</td>\n",
       "      <td>64.0</td>\n",
       "      <td>76.0</td>\n",
       "      <td>0</td>\n",
       "      <td>1</td>\n",
       "      <td>0</td>\n",
       "    </tr>\n",
       "  </tbody>\n",
       "</table>\n",
       "</div>"
      ],
      "text/plain": [
       "  school_setting school_type teaching_method  n_student  gender  \\\n",
       "0          Urban  Non-public        Standard       20.0  Female   \n",
       "1          Urban  Non-public        Standard       20.0  Female   \n",
       "2          Urban  Non-public        Standard       20.0    Male   \n",
       "3          Urban  Non-public        Standard       20.0  Female   \n",
       "4          Urban  Non-public        Standard       20.0    Male   \n",
       "\n",
       "              lunch  pretest  posttest  student_n  pre_test  post_test  \n",
       "0  Does not qualify     62.0      72.0          0         1          0  \n",
       "1  Does not qualify     66.0      79.0          0         1          0  \n",
       "2  Does not qualify     64.0      76.0          0         1          0  \n",
       "3  Does not qualify     61.0      77.0          0         1          0  \n",
       "4  Does not qualify     64.0      76.0          0         1          0  "
      ]
     },
     "execution_count": 18,
     "metadata": {},
     "output_type": "execute_result"
    }
   ],
   "source": [
    "df_clean.head()"
   ]
  },
  {
   "cell_type": "code",
   "execution_count": 19,
   "metadata": {},
   "outputs": [],
   "source": [
    "column_list1 = ['n_student','pretest','posttest']\n",
    "df_clean = df_clean.drop(column_list1, axis=1)"
   ]
  },
  {
   "cell_type": "markdown",
   "metadata": {},
   "source": [
    "Cleaning Data:\n",
    "- drop kolom school, classroom dan student_id :\n",
    "1. school, dikarenakan merupakan informasi nama sekolah yang mana untuk melihat kualitas berdasarkan metode dan status sekolah sudah diwakili oleh kolom lainnya.\n",
    "2. classromm, dikarenakan hanya informasi nama kelas\n",
    "3. student_id, dikarenakan data merupakan unique value\n",
    "- Feature engenering awal :\n",
    "1. n_student, jumlah siswa dalam kelas dibuat kedalam nilai binari (<=20(0) dan >20(1))\n",
    "2. pretest, nilai siswa dibuat kedalam nilai binari (<=70(1) dan >70(0))\n",
    "3. posttest, nilai siswa dibuat kedalam nilai binari (<=70(1) dan >70(0))\n",
    "\n",
    "0 = good grade dan 1 = poor grade\n"
   ]
  },
  {
   "cell_type": "markdown",
   "metadata": {},
   "source": [
    "### EDA For Analysis"
   ]
  },
  {
   "cell_type": "code",
   "execution_count": 20,
   "metadata": {},
   "outputs": [
    {
     "data": {
      "text/plain": [
       "<AxesSubplot:xlabel='post_test', ylabel='count'>"
      ]
     },
     "execution_count": 20,
     "metadata": {},
     "output_type": "execute_result"
    },
    {
     "data": {
      "image/png": "[encoded data removed]",
      "text/plain": [
       "<Figure size 432x288 with 1 Axes>"
      ]
     },
     "metadata": {
      "needs_background": "light"
     },
     "output_type": "display_data"
    }
   ],
   "source": [
    "sns.countplot(data=df_clean,x='post_test',palette=\"autumn\")"
   ]
  },
  {
   "cell_type": "code",
   "execution_count": 21,
   "metadata": {},
   "outputs": [
    {
     "data": {
      "image/png": "[encoded data removed]",
      "text/plain": [
       "<Figure size 576x360 with 1 Axes>"
      ]
     },
     "metadata": {},
     "output_type": "display_data"
    }
   ],
   "source": [
    "plt.figure(figsize = (8,5),facecolor='white')\n",
    "df_clean['post_test'].value_counts().plot(kind = 'pie',explode = [0.2,0.0], shadow = True,autopct = \"%.2f\")\n",
    "plt.legend(['Poor_grade','Good_grade'])\n",
    "plt.show()"
   ]
  },
  {
   "cell_type": "code",
   "execution_count": 22,
   "metadata": {},
   "outputs": [
    {
     "data": {
      "image/png": "[encoded data removed]",
      "text/plain": [
       "<Figure size 1152x576 with 1 Axes>"
      ]
     },
     "metadata": {
      "needs_background": "light"
     },
     "output_type": "display_data"
    }
   ],
   "source": [
    "plt.figure(figsize=(16,8))\n",
    "sns.histplot(x='gender',data=df_clean, hue='post_test',palette=\"ocean\")\n",
    "plt.show()"
   ]
  },
  {
   "cell_type": "code",
   "execution_count": 23,
   "metadata": {},
   "outputs": [
    {
     "data": {
      "image/png": "[encoded data removed]",
      "text/plain": [
       "<Figure size 1152x576 with 1 Axes>"
      ]
     },
     "metadata": {
      "needs_background": "light"
     },
     "output_type": "display_data"
    }
   ],
   "source": [
    "plt.figure(figsize=(16,8))\n",
    "sns.histplot(x='school_setting',data=df_clean, hue='post_test',palette=\"autumn\")\n",
    "plt.show()"
   ]
  },
  {
   "cell_type": "code",
   "execution_count": 24,
   "metadata": {},
   "outputs": [
    {
     "data": {
      "image/png": "[encoded data removed]",
      "text/plain": [
       "<Figure size 1152x576 with 1 Axes>"
      ]
     },
     "metadata": {
      "needs_background": "light"
     },
     "output_type": "display_data"
    }
   ],
   "source": [
    "plt.figure(figsize=(16,8))\n",
    "sns.histplot(x='school_type',data=df_clean, hue='post_test',palette=\"autumn\")\n",
    "plt.show()"
   ]
  },
  {
   "cell_type": "code",
   "execution_count": 25,
   "metadata": {},
   "outputs": [
    {
     "data": {
      "image/png": "[encoded data removed]",
      "text/plain": [
       "<Figure size 1152x576 with 1 Axes>"
      ]
     },
     "metadata": {
      "needs_background": "light"
     },
     "output_type": "display_data"
    }
   ],
   "source": [
    "plt.figure(figsize=(16,8))\n",
    "sns.histplot(x='teaching_method',data=df_clean, hue='post_test',palette=\"autumn\")\n",
    "plt.show()"
   ]
  },
  {
   "cell_type": "markdown",
   "metadata": {},
   "source": [
    "Informasi yang didapatkan dari EDA for analysis:\n",
    "- siswa dengan poor grade lebih banyak dibandingkan dengan siswa good grade, dengan persentasi good grade sebesar 44.87% dan poor grade sebesar 55.13%\n",
    "- poor grade dan good grade untuk gender berimbang antar kedua kategorinya\n",
    "- sekolah dengan kategori urban lebih sedikit siswa dengan nilai dibawah 70 dibanding kategori lainnya\n",
    "- perbandingan antara good grade dan poor grade untuk sekolah public (sekolah negeri) seimbang antara kedua kategorinya. Sedangkan untuk sekolah non-public (sekolah swasta) lebih banyak siswa dengan nilai dibawah 70 dibandingkan siswa dengan nilai diatas 70.\n"
   ]
  },
  {
   "cell_type": "markdown",
   "metadata": {},
   "source": [
    "#### Split data into Train, Test and Inference"
   ]
  },
  {
   "cell_type": "code",
   "execution_count": 26,
   "metadata": {},
   "outputs": [
    {
     "data": {
      "text/html": [
       "<div>\n",
       "<style scoped>\n",
       "    .dataframe tbody tr th:only-of-type {\n",
       "        vertical-align: middle;\n",
       "    }\n",
       "\n",
       "    .dataframe tbody tr th {\n",
       "        vertical-align: top;\n",
       "    }\n",
       "\n",
       "    .dataframe thead th {\n",
       "        text-align: right;\n",
       "    }\n",
       "</style>\n",
       "<table border=\"1\" class=\"dataframe\">\n",
       "  <thead>\n",
       "    <tr style=\"text-align: right;\">\n",
       "      <th></th>\n",
       "      <th>school_setting</th>\n",
       "      <th>school_type</th>\n",
       "      <th>teaching_method</th>\n",
       "      <th>gender</th>\n",
       "      <th>lunch</th>\n",
       "      <th>student_n</th>\n",
       "      <th>pre_test</th>\n",
       "      <th>post_test</th>\n",
       "    </tr>\n",
       "  </thead>\n",
       "  <tbody>\n",
       "    <tr>\n",
       "      <th>1015</th>\n",
       "      <td>Rural</td>\n",
       "      <td>Public</td>\n",
       "      <td>Standard</td>\n",
       "      <td>Female</td>\n",
       "      <td>Qualifies for reduced/free lunch</td>\n",
       "      <td>1</td>\n",
       "      <td>1</td>\n",
       "      <td>1</td>\n",
       "    </tr>\n",
       "    <tr>\n",
       "      <th>1308</th>\n",
       "      <td>Urban</td>\n",
       "      <td>Public</td>\n",
       "      <td>Standard</td>\n",
       "      <td>Male</td>\n",
       "      <td>Does not qualify</td>\n",
       "      <td>1</td>\n",
       "      <td>1</td>\n",
       "      <td>1</td>\n",
       "    </tr>\n",
       "    <tr>\n",
       "      <th>874</th>\n",
       "      <td>Urban</td>\n",
       "      <td>Non-public</td>\n",
       "      <td>Experimental</td>\n",
       "      <td>Male</td>\n",
       "      <td>Does not qualify</td>\n",
       "      <td>1</td>\n",
       "      <td>0</td>\n",
       "      <td>0</td>\n",
       "    </tr>\n",
       "    <tr>\n",
       "      <th>369</th>\n",
       "      <td>Suburban</td>\n",
       "      <td>Public</td>\n",
       "      <td>Experimental</td>\n",
       "      <td>Male</td>\n",
       "      <td>Does not qualify</td>\n",
       "      <td>0</td>\n",
       "      <td>1</td>\n",
       "      <td>1</td>\n",
       "    </tr>\n",
       "    <tr>\n",
       "      <th>1134</th>\n",
       "      <td>Rural</td>\n",
       "      <td>Public</td>\n",
       "      <td>Standard</td>\n",
       "      <td>Female</td>\n",
       "      <td>Does not qualify</td>\n",
       "      <td>0</td>\n",
       "      <td>1</td>\n",
       "      <td>1</td>\n",
       "    </tr>\n",
       "    <tr>\n",
       "      <th>1226</th>\n",
       "      <td>Rural</td>\n",
       "      <td>Public</td>\n",
       "      <td>Standard</td>\n",
       "      <td>Female</td>\n",
       "      <td>Does not qualify</td>\n",
       "      <td>1</td>\n",
       "      <td>1</td>\n",
       "      <td>1</td>\n",
       "    </tr>\n",
       "    <tr>\n",
       "      <th>1082</th>\n",
       "      <td>Rural</td>\n",
       "      <td>Public</td>\n",
       "      <td>Standard</td>\n",
       "      <td>Male</td>\n",
       "      <td>Qualifies for reduced/free lunch</td>\n",
       "      <td>1</td>\n",
       "      <td>1</td>\n",
       "      <td>1</td>\n",
       "    </tr>\n",
       "    <tr>\n",
       "      <th>584</th>\n",
       "      <td>Suburban</td>\n",
       "      <td>Public</td>\n",
       "      <td>Standard</td>\n",
       "      <td>Female</td>\n",
       "      <td>Qualifies for reduced/free lunch</td>\n",
       "      <td>1</td>\n",
       "      <td>1</td>\n",
       "      <td>1</td>\n",
       "    </tr>\n",
       "    <tr>\n",
       "      <th>1305</th>\n",
       "      <td>Urban</td>\n",
       "      <td>Public</td>\n",
       "      <td>Standard</td>\n",
       "      <td>Female</td>\n",
       "      <td>Does not qualify</td>\n",
       "      <td>1</td>\n",
       "      <td>1</td>\n",
       "      <td>1</td>\n",
       "    </tr>\n",
       "    <tr>\n",
       "      <th>1129</th>\n",
       "      <td>Rural</td>\n",
       "      <td>Public</td>\n",
       "      <td>Standard</td>\n",
       "      <td>Female</td>\n",
       "      <td>Does not qualify</td>\n",
       "      <td>0</td>\n",
       "      <td>1</td>\n",
       "      <td>1</td>\n",
       "    </tr>\n",
       "    <tr>\n",
       "      <th>712</th>\n",
       "      <td>Urban</td>\n",
       "      <td>Public</td>\n",
       "      <td>Standard</td>\n",
       "      <td>Male</td>\n",
       "      <td>Qualifies for reduced/free lunch</td>\n",
       "      <td>1</td>\n",
       "      <td>1</td>\n",
       "      <td>1</td>\n",
       "    </tr>\n",
       "    <tr>\n",
       "      <th>1248</th>\n",
       "      <td>Urban</td>\n",
       "      <td>Public</td>\n",
       "      <td>Experimental</td>\n",
       "      <td>Female</td>\n",
       "      <td>Does not qualify</td>\n",
       "      <td>1</td>\n",
       "      <td>1</td>\n",
       "      <td>1</td>\n",
       "    </tr>\n",
       "    <tr>\n",
       "      <th>997</th>\n",
       "      <td>Rural</td>\n",
       "      <td>Public</td>\n",
       "      <td>Standard</td>\n",
       "      <td>Male</td>\n",
       "      <td>Qualifies for reduced/free lunch</td>\n",
       "      <td>0</td>\n",
       "      <td>1</td>\n",
       "      <td>1</td>\n",
       "    </tr>\n",
       "    <tr>\n",
       "      <th>1939</th>\n",
       "      <td>Urban</td>\n",
       "      <td>Public</td>\n",
       "      <td>Experimental</td>\n",
       "      <td>Male</td>\n",
       "      <td>Qualifies for reduced/free lunch</td>\n",
       "      <td>1</td>\n",
       "      <td>1</td>\n",
       "      <td>1</td>\n",
       "    </tr>\n",
       "    <tr>\n",
       "      <th>232</th>\n",
       "      <td>Urban</td>\n",
       "      <td>Public</td>\n",
       "      <td>Standard</td>\n",
       "      <td>Male</td>\n",
       "      <td>Does not qualify</td>\n",
       "      <td>1</td>\n",
       "      <td>1</td>\n",
       "      <td>1</td>\n",
       "    </tr>\n",
       "    <tr>\n",
       "      <th>2097</th>\n",
       "      <td>Urban</td>\n",
       "      <td>Public</td>\n",
       "      <td>Standard</td>\n",
       "      <td>Female</td>\n",
       "      <td>Qualifies for reduced/free lunch</td>\n",
       "      <td>1</td>\n",
       "      <td>1</td>\n",
       "      <td>1</td>\n",
       "    </tr>\n",
       "    <tr>\n",
       "      <th>1274</th>\n",
       "      <td>Urban</td>\n",
       "      <td>Public</td>\n",
       "      <td>Standard</td>\n",
       "      <td>Female</td>\n",
       "      <td>Does not qualify</td>\n",
       "      <td>1</td>\n",
       "      <td>1</td>\n",
       "      <td>1</td>\n",
       "    </tr>\n",
       "    <tr>\n",
       "      <th>342</th>\n",
       "      <td>Suburban</td>\n",
       "      <td>Public</td>\n",
       "      <td>Standard</td>\n",
       "      <td>Male</td>\n",
       "      <td>Does not qualify</td>\n",
       "      <td>1</td>\n",
       "      <td>1</td>\n",
       "      <td>1</td>\n",
       "    </tr>\n",
       "    <tr>\n",
       "      <th>338</th>\n",
       "      <td>Suburban</td>\n",
       "      <td>Public</td>\n",
       "      <td>Standard</td>\n",
       "      <td>Female</td>\n",
       "      <td>Qualifies for reduced/free lunch</td>\n",
       "      <td>1</td>\n",
       "      <td>1</td>\n",
       "      <td>1</td>\n",
       "    </tr>\n",
       "    <tr>\n",
       "      <th>569</th>\n",
       "      <td>Suburban</td>\n",
       "      <td>Public</td>\n",
       "      <td>Standard</td>\n",
       "      <td>Female</td>\n",
       "      <td>Qualifies for reduced/free lunch</td>\n",
       "      <td>1</td>\n",
       "      <td>1</td>\n",
       "      <td>1</td>\n",
       "    </tr>\n",
       "  </tbody>\n",
       "</table>\n",
       "</div>"
      ],
      "text/plain": [
       "     school_setting school_type teaching_method  gender  \\\n",
       "1015          Rural      Public        Standard  Female   \n",
       "1308          Urban      Public        Standard    Male   \n",
       "874           Urban  Non-public    Experimental    Male   \n",
       "369        Suburban      Public    Experimental    Male   \n",
       "1134          Rural      Public        Standard  Female   \n",
       "1226          Rural      Public        Standard  Female   \n",
       "1082          Rural      Public        Standard    Male   \n",
       "584        Suburban      Public        Standard  Female   \n",
       "1305          Urban      Public        Standard  Female   \n",
       "1129          Rural      Public        Standard  Female   \n",
       "712           Urban      Public        Standard    Male   \n",
       "1248          Urban      Public    Experimental  Female   \n",
       "997           Rural      Public        Standard    Male   \n",
       "1939          Urban      Public    Experimental    Male   \n",
       "232           Urban      Public        Standard    Male   \n",
       "2097          Urban      Public        Standard  Female   \n",
       "1274          Urban      Public        Standard  Female   \n",
       "342        Suburban      Public        Standard    Male   \n",
       "338        Suburban      Public        Standard  Female   \n",
       "569        Suburban      Public        Standard  Female   \n",
       "\n",
       "                                 lunch  student_n  pre_test  post_test  \n",
       "1015  Qualifies for reduced/free lunch          1         1          1  \n",
       "1308                  Does not qualify          1         1          1  \n",
       "874                   Does not qualify          1         0          0  \n",
       "369                   Does not qualify          0         1          1  \n",
       "1134                  Does not qualify          0         1          1  \n",
       "1226                  Does not qualify          1         1          1  \n",
       "1082  Qualifies for reduced/free lunch          1         1          1  \n",
       "584   Qualifies for reduced/free lunch          1         1          1  \n",
       "1305                  Does not qualify          1         1          1  \n",
       "1129                  Does not qualify          0         1          1  \n",
       "712   Qualifies for reduced/free lunch          1         1          1  \n",
       "1248                  Does not qualify          1         1          1  \n",
       "997   Qualifies for reduced/free lunch          0         1          1  \n",
       "1939  Qualifies for reduced/free lunch          1         1          1  \n",
       "232                   Does not qualify          1         1          1  \n",
       "2097  Qualifies for reduced/free lunch          1         1          1  \n",
       "1274                  Does not qualify          1         1          1  \n",
       "342                   Does not qualify          1         1          1  \n",
       "338   Qualifies for reduced/free lunch          1         1          1  \n",
       "569   Qualifies for reduced/free lunch          1         1          1  "
      ]
     },
     "execution_count": 26,
     "metadata": {},
     "output_type": "execute_result"
    }
   ],
   "source": [
    "inference = df_clean.sample(20, random_state=17)\n",
    "inference"
   ]
  },
  {
   "cell_type": "code",
   "execution_count": 27,
   "metadata": {},
   "outputs": [],
   "source": [
    "df_clean = df_clean.drop(inference.index)"
   ]
  },
  {
   "cell_type": "code",
   "execution_count": 28,
   "metadata": {},
   "outputs": [
    {
     "data": {
      "text/plain": [
       "(2113, 8)"
      ]
     },
     "execution_count": 28,
     "metadata": {},
     "output_type": "execute_result"
    }
   ],
   "source": [
    "df_clean.shape"
   ]
  },
  {
   "cell_type": "code",
   "execution_count": 29,
   "metadata": {},
   "outputs": [
    {
     "name": "stdout",
     "output_type": "stream",
     "text": [
      "(1584, 7)\n",
      "(529, 7)\n",
      "(1584,)\n",
      "(529,)\n"
     ]
    }
   ],
   "source": [
    "X = df_clean.drop('post_test', axis=1)\n",
    "y = df_clean['post_test']\n",
    "\n",
    "X_train, X_test, y_train, y_test = train_test_split(X, y, test_size=0.25, stratify=y, random_state=0)\n",
    "\n",
    "for i in [X_train, X_test, y_train, y_test]:\n",
    "    print(i.shape)"
   ]
  },
  {
   "cell_type": "code",
   "execution_count": 30,
   "metadata": {},
   "outputs": [
    {
     "data": {
      "text/plain": [
       "(1584, 8)"
      ]
     },
     "execution_count": 30,
     "metadata": {},
     "output_type": "execute_result"
    }
   ],
   "source": [
    "df_eda = pd.concat([X_train, y_train], axis=1)\n",
    "testing = pd.concat([X_test, y_test], axis=1)\n",
    "\n",
    "df_eda.shape"
   ]
  },
  {
   "cell_type": "markdown",
   "metadata": {},
   "source": [
    "Proses pembagian data kedalam 3 dataframe, yaitu:\n",
    "- data inference yang akan digunakan untuk pengujian model setelah model evaluation\n",
    "- data train dengan besaran 75% dari data\n",
    "- data test dengan besaran 25% dari data\n",
    "\n",
    "Penentuan kolom target dan kolom feature yang dituliskan dengan y untuk target dan x untuk feature"
   ]
  },
  {
   "cell_type": "markdown",
   "metadata": {},
   "source": [
    "### EDE For Modeling"
   ]
  },
  {
   "cell_type": "code",
   "execution_count": 31,
   "metadata": {},
   "outputs": [
    {
     "data": {
      "text/html": [
       "<div>\n",
       "<style scoped>\n",
       "    .dataframe tbody tr th:only-of-type {\n",
       "        vertical-align: middle;\n",
       "    }\n",
       "\n",
       "    .dataframe tbody tr th {\n",
       "        vertical-align: top;\n",
       "    }\n",
       "\n",
       "    .dataframe thead th {\n",
       "        text-align: right;\n",
       "    }\n",
       "</style>\n",
       "<table border=\"1\" class=\"dataframe\">\n",
       "  <thead>\n",
       "    <tr style=\"text-align: right;\">\n",
       "      <th></th>\n",
       "      <th>school_setting</th>\n",
       "      <th>school_type</th>\n",
       "      <th>teaching_method</th>\n",
       "      <th>gender</th>\n",
       "      <th>lunch</th>\n",
       "      <th>student_n</th>\n",
       "      <th>pre_test</th>\n",
       "      <th>post_test</th>\n",
       "    </tr>\n",
       "  </thead>\n",
       "  <tbody>\n",
       "    <tr>\n",
       "      <th>1800</th>\n",
       "      <td>Rural</td>\n",
       "      <td>Public</td>\n",
       "      <td>Standard</td>\n",
       "      <td>Female</td>\n",
       "      <td>Does not qualify</td>\n",
       "      <td>0</td>\n",
       "      <td>1</td>\n",
       "      <td>1</td>\n",
       "    </tr>\n",
       "    <tr>\n",
       "      <th>1311</th>\n",
       "      <td>Urban</td>\n",
       "      <td>Public</td>\n",
       "      <td>Standard</td>\n",
       "      <td>Female</td>\n",
       "      <td>Does not qualify</td>\n",
       "      <td>1</td>\n",
       "      <td>1</td>\n",
       "      <td>1</td>\n",
       "    </tr>\n",
       "  </tbody>\n",
       "</table>\n",
       "</div>"
      ],
      "text/plain": [
       "     school_setting school_type teaching_method  gender             lunch  \\\n",
       "1800          Rural      Public        Standard  Female  Does not qualify   \n",
       "1311          Urban      Public        Standard  Female  Does not qualify   \n",
       "\n",
       "      student_n  pre_test  post_test  \n",
       "1800          0         1          1  \n",
       "1311          1         1          1  "
      ]
     },
     "execution_count": 31,
     "metadata": {},
     "output_type": "execute_result"
    }
   ],
   "source": [
    "df_eda.head(2)"
   ]
  },
  {
   "cell_type": "markdown",
   "metadata": {},
   "source": [
    "#### Ordinal Encoding"
   ]
  },
  {
   "cell_type": "code",
   "execution_count": 32,
   "metadata": {},
   "outputs": [],
   "source": [
    "setting_cat = ['Rural','Suburban','Urban']\n",
    "type_cat = ['Non-public','Public']\n",
    "teaching_cat = ['Experimental','Standard']\n",
    "lunch_cat = ['Does not qualify', 'Qualifies for reduced/free lunch']\n",
    "\n",
    "ord_enc = OrdinalEncoder(categories=[setting_cat, type_cat, teaching_cat, lunch_cat])\n",
    "cat_ord = pd.DataFrame(ord_enc.fit_transform(df_eda[['school_setting','school_type','teaching_method','lunch']]))\n",
    "\n",
    "cat_ord.columns = ['school_setting_ord','school_type_ord','teaching_method_ord','lunch_ord']"
   ]
  },
  {
   "cell_type": "markdown",
   "metadata": {},
   "source": [
    "#### One Hot Encoding"
   ]
  },
  {
   "cell_type": "code",
   "execution_count": 33,
   "metadata": {},
   "outputs": [
    {
     "data": {
      "text/html": [
       "<div>\n",
       "<style scoped>\n",
       "    .dataframe tbody tr th:only-of-type {\n",
       "        vertical-align: middle;\n",
       "    }\n",
       "\n",
       "    .dataframe tbody tr th {\n",
       "        vertical-align: top;\n",
       "    }\n",
       "\n",
       "    .dataframe thead th {\n",
       "        text-align: right;\n",
       "    }\n",
       "</style>\n",
       "<table border=\"1\" class=\"dataframe\">\n",
       "  <thead>\n",
       "    <tr style=\"text-align: right;\">\n",
       "      <th></th>\n",
       "      <th>gender</th>\n",
       "      <th>gender_Female</th>\n",
       "      <th>gender_Male</th>\n",
       "    </tr>\n",
       "  </thead>\n",
       "  <tbody>\n",
       "    <tr>\n",
       "      <th>0</th>\n",
       "      <td>Female</td>\n",
       "      <td>1.0</td>\n",
       "      <td>0.0</td>\n",
       "    </tr>\n",
       "    <tr>\n",
       "      <th>1</th>\n",
       "      <td>Female</td>\n",
       "      <td>1.0</td>\n",
       "      <td>0.0</td>\n",
       "    </tr>\n",
       "    <tr>\n",
       "      <th>2</th>\n",
       "      <td>Male</td>\n",
       "      <td>0.0</td>\n",
       "      <td>1.0</td>\n",
       "    </tr>\n",
       "    <tr>\n",
       "      <th>3</th>\n",
       "      <td>Female</td>\n",
       "      <td>1.0</td>\n",
       "      <td>0.0</td>\n",
       "    </tr>\n",
       "    <tr>\n",
       "      <th>4</th>\n",
       "      <td>Female</td>\n",
       "      <td>1.0</td>\n",
       "      <td>0.0</td>\n",
       "    </tr>\n",
       "  </tbody>\n",
       "</table>\n",
       "</div>"
      ],
      "text/plain": [
       "   gender  gender_Female  gender_Male\n",
       "0  Female            1.0          0.0\n",
       "1  Female            1.0          0.0\n",
       "2    Male            0.0          1.0\n",
       "3  Female            1.0          0.0\n",
       "4  Female            1.0          0.0"
      ]
     },
     "execution_count": 33,
     "metadata": {},
     "output_type": "execute_result"
    }
   ],
   "source": [
    "ohe_enc = OneHotEncoder(sparse=False, handle_unknown='ignore')\n",
    "\n",
    "cat_ohe = pd.DataFrame(ohe_enc.fit_transform(df_eda[['gender']]))\n",
    "cat_ohe.columns = ohe_enc.get_feature_names(['gender'])\n",
    "\n",
    "review = pd.concat([df_eda[['gender']].reset_index(drop=True), cat_ohe], axis=1)\n",
    "review.head(5)"
   ]
  },
  {
   "cell_type": "code",
   "execution_count": 34,
   "metadata": {},
   "outputs": [
    {
     "data": {
      "text/plain": [
       "(1584, 14)"
      ]
     },
     "execution_count": 34,
     "metadata": {},
     "output_type": "execute_result"
    }
   ],
   "source": [
    "train_eda = pd.concat([df_eda.reset_index(drop=True), cat_ord, cat_ohe.reset_index(drop=True)], axis=1)\n",
    "train_eda.shape"
   ]
  },
  {
   "cell_type": "code",
   "execution_count": 35,
   "metadata": {},
   "outputs": [
    {
     "data": {
      "image/png": "[encoded data removed]",
      "text/plain": [
       "<Figure size 1440x720 with 2 Axes>"
      ]
     },
     "metadata": {
      "needs_background": "light"
     },
     "output_type": "display_data"
    }
   ],
   "source": [
    "fig,ax = plt.subplots(figsize=[20,10])\n",
    "\n",
    "corr = train_eda.corr()\n",
    "\n",
    "ax = sns.heatmap(corr,annot=True)\n",
    "plt.show()"
   ]
  },
  {
   "cell_type": "markdown",
   "metadata": {},
   "source": [
    "Feature yang terpilih berdasarkan corr heatmap adalah studend_n, pre_test, school_setting_ord, school_type_ord, teaching_method_ord dan lunch\n",
    "\n",
    "\n",
    "Kategorikal:\n",
    "1. Ordinal encoding dilakukan untuk kolom school_setting, school_type, teaching_method dan lunch:\n",
    "- school setting, lokasi sekolah: urban (0), suburban (1) dan rural (2)\n",
    "- school type, public(sekolah negeri) = 1 dan non-public(sekolah swasta) = 0\n",
    "- teaching_method, standard (mengikuti kurikulum yang ditetapkan pemerintah) = 1 dan experimental (belum mengikuti kurikulum yang ditetapkan pemerintah) = 0\n",
    "- lunch, 'Does not qualify' = 0, 'Qualifies for reduced/free lunch' = 1\n",
    "2. OHE dikulakan untuk kolom gender dikarenakan tidak ada tinkatan untuk kedua kategori\n"
   ]
  },
  {
   "cell_type": "markdown",
   "metadata": {},
   "source": [
    "### PREPROCESS"
   ]
  },
  {
   "cell_type": "markdown",
   "metadata": {},
   "source": [
    "#### Pipeline"
   ]
  },
  {
   "cell_type": "code",
   "execution_count": 36,
   "metadata": {},
   "outputs": [
    {
     "data": {
      "text/plain": [
       "array([[0., 1., 1., 0.],\n",
       "       [2., 1., 1., 0.],\n",
       "       [1., 1., 0., 0.],\n",
       "       ...,\n",
       "       [1., 0., 1., 0.],\n",
       "       [2., 1., 1., 0.],\n",
       "       [1., 0., 0., 1.]])"
      ]
     },
     "execution_count": 36,
     "metadata": {},
     "output_type": "execute_result"
    }
   ],
   "source": [
    "cat_1_pipeline = Pipeline([\n",
    "        ('ordinal_enc', OrdinalEncoder(categories=[['Rural','Suburban','Urban'], ['Non-public','Public'], ['Experimental','Standard'], ['Does not qualify', 'Qualifies for reduced/free lunch']]))\n",
    "    ])\n",
    "\n",
    "cat_1_tr = cat_1_pipeline.fit_transform(X_train[['school_setting','school_type','teaching_method','lunch']])\n",
    "cat_1_tr"
   ]
  },
  {
   "cell_type": "code",
   "execution_count": 37,
   "metadata": {},
   "outputs": [
    {
     "data": {
      "text/plain": [
       "array([[1., 0.],\n",
       "       [1., 0.],\n",
       "       [0., 1.],\n",
       "       ...,\n",
       "       [0., 1.],\n",
       "       [1., 0.],\n",
       "       [0., 1.]])"
      ]
     },
     "execution_count": 37,
     "metadata": {},
     "output_type": "execute_result"
    }
   ],
   "source": [
    "cat_2_pipeline = Pipeline([\n",
    "        ('ohe_enc', OneHotEncoder(sparse=False)) #odor & fat\n",
    "    ])\n",
    "\n",
    "cat_2_tr = cat_2_pipeline.fit_transform(X_train[['gender']])\n",
    "cat_2_tr"
   ]
  },
  {
   "cell_type": "code",
   "execution_count": 38,
   "metadata": {},
   "outputs": [
    {
     "data": {
      "text/plain": [
       "array([[0., 1., 1., 0., 1., 0.],\n",
       "       [2., 1., 1., 0., 1., 0.],\n",
       "       [1., 1., 0., 0., 0., 1.],\n",
       "       ...,\n",
       "       [1., 0., 1., 0., 0., 1.],\n",
       "       [2., 1., 1., 0., 1., 0.],\n",
       "       [1., 0., 0., 1., 0., 1.]])"
      ]
     },
     "execution_count": 38,
     "metadata": {},
     "output_type": "execute_result"
    }
   ],
   "source": [
    "full_pipeline = ColumnTransformer([\n",
    "        (\"cat_ord\", cat_1_pipeline, ['school_setting','school_type','teaching_method','lunch']),\n",
    "        (\"cat_ohe\", cat_2_pipeline, ['gender']),\n",
    "    ])\n",
    "\n",
    "train_tr = full_pipeline.fit_transform(X_train)\n",
    "train_tr"
   ]
  },
  {
   "cell_type": "code",
   "execution_count": 39,
   "metadata": {},
   "outputs": [
    {
     "data": {
      "text/plain": [
       "True"
      ]
     },
     "execution_count": 39,
     "metadata": {},
     "output_type": "execute_result"
    }
   ],
   "source": [
    "train_manual = np.array(train_eda[['school_setting_ord','school_type_ord','teaching_method_ord','lunch_ord','gender_Female','gender_Male']])\n",
    "\n",
    "np.allclose(train_tr, train_manual)"
   ]
  },
  {
   "cell_type": "code",
   "execution_count": 40,
   "metadata": {},
   "outputs": [
    {
     "data": {
      "text/plain": [
       "array([[1., 0., 0., 1., 1., 0.],\n",
       "       [1., 1., 1., 1., 0., 1.],\n",
       "       [2., 1., 1., 1., 1., 0.],\n",
       "       ...,\n",
       "       [1., 1., 0., 1., 0., 1.],\n",
       "       [2., 1., 1., 1., 1., 0.],\n",
       "       [2., 1., 0., 0., 1., 0.]])"
      ]
     },
     "execution_count": 40,
     "metadata": {},
     "output_type": "execute_result"
    }
   ],
   "source": [
    "test_tr = full_pipeline.transform(X_test)\n",
    "test_tr"
   ]
  },
  {
   "cell_type": "code",
   "execution_count": 41,
   "metadata": {},
   "outputs": [
    {
     "data": {
      "text/html": [
       "<style>#sk-container-id-1 {color: black;background-color: white;}#sk-container-id-1 pre{padding: 0;}#sk-container-id-1 div.sk-toggleable {background-color: white;}#sk-container-id-1 label.sk-toggleable__label {cursor: pointer;display: block;width: 100%;margin-bottom: 0;padding: 0.3em;box-sizing: border-box;text-align: center;}#sk-container-id-1 label.sk-toggleable__label-arrow:before {content: \"▸\";float: left;margin-right: 0.25em;color: #696969;}#sk-container-id-1 label.sk-toggleable__label-arrow:hover:before {color: black;}#sk-container-id-1 div.sk-estimator:hover label.sk-toggleable__label-arrow:before {color: black;}#sk-container-id-1 div.sk-toggleable__content {max-height: 0;max-width: 0;overflow: hidden;text-align: left;background-color: #f0f8ff;}#sk-container-id-1 div.sk-toggleable__content pre {margin: 0.2em;color: black;border-radius: 0.25em;background-color: #f0f8ff;}#sk-container-id-1 input.sk-toggleable__control:checked~div.sk-toggleable__content {max-height: 200px;max-width: 100%;overflow: auto;}#sk-container-id-1 input.sk-toggleable__control:checked~label.sk-toggleable__label-arrow:before {content: \"▾\";}#sk-container-id-1 div.sk-estimator input.sk-toggleable__control:checked~label.sk-toggleable__label {background-color: #d4ebff;}#sk-container-id-1 div.sk-label input.sk-toggleable__control:checked~label.sk-toggleable__label {background-color: #d4ebff;}#sk-container-id-1 input.sk-hidden--visually {border: 0;clip: rect(1px 1px 1px 1px);clip: rect(1px, 1px, 1px, 1px);height: 1px;margin: -1px;overflow: hidden;padding: 0;position: absolute;width: 1px;}#sk-container-id-1 div.sk-estimator {font-family: monospace;background-color: #f0f8ff;border: 1px dotted black;border-radius: 0.25em;box-sizing: border-box;margin-bottom: 0.5em;}#sk-container-id-1 div.sk-estimator:hover {background-color: #d4ebff;}#sk-container-id-1 div.sk-parallel-item::after {content: \"\";width: 100%;border-bottom: 1px solid gray;flex-grow: 1;}#sk-container-id-1 div.sk-label:hover label.sk-toggleable__label {background-color: #d4ebff;}#sk-container-id-1 div.sk-serial::before {content: \"\";position: absolute;border-left: 1px solid gray;box-sizing: border-box;top: 0;bottom: 0;left: 50%;z-index: 0;}#sk-container-id-1 div.sk-serial {display: flex;flex-direction: column;align-items: center;background-color: white;padding-right: 0.2em;padding-left: 0.2em;position: relative;}#sk-container-id-1 div.sk-item {position: relative;z-index: 1;}#sk-container-id-1 div.sk-parallel {display: flex;align-items: stretch;justify-content: center;background-color: white;position: relative;}#sk-container-id-1 div.sk-item::before, #sk-container-id-1 div.sk-parallel-item::before {content: \"\";position: absolute;border-left: 1px solid gray;box-sizing: border-box;top: 0;bottom: 0;left: 50%;z-index: -1;}#sk-container-id-1 div.sk-parallel-item {display: flex;flex-direction: column;z-index: 1;position: relative;background-color: white;}#sk-container-id-1 div.sk-parallel-item:first-child::after {align-self: flex-end;width: 50%;}#sk-container-id-1 div.sk-parallel-item:last-child::after {align-self: flex-start;width: 50%;}#sk-container-id-1 div.sk-parallel-item:only-child::after {width: 0;}#sk-container-id-1 div.sk-dashed-wrapped {border: 1px dashed gray;margin: 0 0.4em 0.5em 0.4em;box-sizing: border-box;padding-bottom: 0.4em;background-color: white;}#sk-container-id-1 div.sk-label label {font-family: monospace;font-weight: bold;display: inline-block;line-height: 1.2em;}#sk-container-id-1 div.sk-label-container {text-align: center;}#sk-container-id-1 div.sk-container {/* jupyter's `normalize.less` sets `[hidden] { display: none; }` but bootstrap.min.css set `[hidden] { display: none !important; }` so we also need the `!important` here to be able to override the default hidden behavior on the sphinx rendered scikit-learn.org. See: https://github.com/scikit-learn/scikit-learn/issues/21755 */display: inline-block !important;position: relative;}#sk-container-id-1 div.sk-text-repr-fallback {display: none;}</style><div id=\"sk-container-id-1\" class=\"sk-top-container\"><div class=\"sk-text-repr-fallback\"><pre>ColumnTransformer(transformers=[(&#x27;cat_ord&#x27;,\n",
       "                                 Pipeline(steps=[(&#x27;ordinal_enc&#x27;,\n",
       "                                                  OrdinalEncoder(categories=[[&#x27;Rural&#x27;,\n",
       "                                                                              &#x27;Suburban&#x27;,\n",
       "                                                                              &#x27;Urban&#x27;],\n",
       "                                                                             [&#x27;Non-public&#x27;,\n",
       "                                                                              &#x27;Public&#x27;],\n",
       "                                                                             [&#x27;Experimental&#x27;,\n",
       "                                                                              &#x27;Standard&#x27;],\n",
       "                                                                             [&#x27;Does &#x27;\n",
       "                                                                              &#x27;not &#x27;\n",
       "                                                                              &#x27;qualify&#x27;,\n",
       "                                                                              &#x27;Qualifies &#x27;\n",
       "                                                                              &#x27;for &#x27;\n",
       "                                                                              &#x27;reduced/free &#x27;\n",
       "                                                                              &#x27;lunch&#x27;]]))]),\n",
       "                                 [&#x27;school_setting&#x27;, &#x27;school_type&#x27;,\n",
       "                                  &#x27;teaching_method&#x27;, &#x27;lunch&#x27;]),\n",
       "                                (&#x27;cat_ohe&#x27;,\n",
       "                                 Pipeline(steps=[(&#x27;ohe_enc&#x27;,\n",
       "                                                  OneHotEncoder(sparse=False))]),\n",
       "                                 [&#x27;gender&#x27;])])</pre><b>In a Jupyter environment, please rerun this cell to show the HTML representation or trust the notebook. <br />On GitHub, the HTML representation is unable to render, please try loading this page with nbviewer.org.</b></div><div class=\"sk-container\" hidden><div class=\"sk-item sk-dashed-wrapped\"><div class=\"sk-label-container\"><div class=\"sk-label sk-toggleable\"><input class=\"sk-toggleable__control sk-hidden--visually\" id=\"sk-estimator-id-1\" type=\"checkbox\" ><label for=\"sk-estimator-id-1\" class=\"sk-toggleable__label sk-toggleable__label-arrow\">ColumnTransformer</label><div class=\"sk-toggleable__content\"><pre>ColumnTransformer(transformers=[(&#x27;cat_ord&#x27;,\n",
       "                                 Pipeline(steps=[(&#x27;ordinal_enc&#x27;,\n",
       "                                                  OrdinalEncoder(categories=[[&#x27;Rural&#x27;,\n",
       "                                                                              &#x27;Suburban&#x27;,\n",
       "                                                                              &#x27;Urban&#x27;],\n",
       "                                                                             [&#x27;Non-public&#x27;,\n",
       "                                                                              &#x27;Public&#x27;],\n",
       "                                                                             [&#x27;Experimental&#x27;,\n",
       "                                                                              &#x27;Standard&#x27;],\n",
       "                                                                             [&#x27;Does &#x27;\n",
       "                                                                              &#x27;not &#x27;\n",
       "                                                                              &#x27;qualify&#x27;,\n",
       "                                                                              &#x27;Qualifies &#x27;\n",
       "                                                                              &#x27;for &#x27;\n",
       "                                                                              &#x27;reduced/free &#x27;\n",
       "                                                                              &#x27;lunch&#x27;]]))]),\n",
       "                                 [&#x27;school_setting&#x27;, &#x27;school_type&#x27;,\n",
       "                                  &#x27;teaching_method&#x27;, &#x27;lunch&#x27;]),\n",
       "                                (&#x27;cat_ohe&#x27;,\n",
       "                                 Pipeline(steps=[(&#x27;ohe_enc&#x27;,\n",
       "                                                  OneHotEncoder(sparse=False))]),\n",
       "                                 [&#x27;gender&#x27;])])</pre></div></div></div><div class=\"sk-parallel\"><div class=\"sk-parallel-item\"><div class=\"sk-item\"><div class=\"sk-label-container\"><div class=\"sk-label sk-toggleable\"><input class=\"sk-toggleable__control sk-hidden--visually\" id=\"sk-estimator-id-2\" type=\"checkbox\" ><label for=\"sk-estimator-id-2\" class=\"sk-toggleable__label sk-toggleable__label-arrow\">cat_ord</label><div class=\"sk-toggleable__content\"><pre>[&#x27;school_setting&#x27;, &#x27;school_type&#x27;, &#x27;teaching_method&#x27;, &#x27;lunch&#x27;]</pre></div></div></div><div class=\"sk-serial\"><div class=\"sk-item\"><div class=\"sk-serial\"><div class=\"sk-item\"><div class=\"sk-estimator sk-toggleable\"><input class=\"sk-toggleable__control sk-hidden--visually\" id=\"sk-estimator-id-3\" type=\"checkbox\" ><label for=\"sk-estimator-id-3\" class=\"sk-toggleable__label sk-toggleable__label-arrow\">OrdinalEncoder</label><div class=\"sk-toggleable__content\"><pre>OrdinalEncoder(categories=[[&#x27;Rural&#x27;, &#x27;Suburban&#x27;, &#x27;Urban&#x27;],\n",
       "                           [&#x27;Non-public&#x27;, &#x27;Public&#x27;],\n",
       "                           [&#x27;Experimental&#x27;, &#x27;Standard&#x27;],\n",
       "                           [&#x27;Does not qualify&#x27;,\n",
       "                            &#x27;Qualifies for reduced/free lunch&#x27;]])</pre></div></div></div></div></div></div></div></div><div class=\"sk-parallel-item\"><div class=\"sk-item\"><div class=\"sk-label-container\"><div class=\"sk-label sk-toggleable\"><input class=\"sk-toggleable__control sk-hidden--visually\" id=\"sk-estimator-id-4\" type=\"checkbox\" ><label for=\"sk-estimator-id-4\" class=\"sk-toggleable__label sk-toggleable__label-arrow\">cat_ohe</label><div class=\"sk-toggleable__content\"><pre>[&#x27;gender&#x27;]</pre></div></div></div><div class=\"sk-serial\"><div class=\"sk-item\"><div class=\"sk-serial\"><div class=\"sk-item\"><div class=\"sk-estimator sk-toggleable\"><input class=\"sk-toggleable__control sk-hidden--visually\" id=\"sk-estimator-id-5\" type=\"checkbox\" ><label for=\"sk-estimator-id-5\" class=\"sk-toggleable__label sk-toggleable__label-arrow\">OneHotEncoder</label><div class=\"sk-toggleable__content\"><pre>OneHotEncoder(sparse=False)</pre></div></div></div></div></div></div></div></div></div></div></div></div>"
      ],
      "text/plain": [
       "ColumnTransformer(transformers=[('cat_ord',\n",
       "                                 Pipeline(steps=[('ordinal_enc',\n",
       "                                                  OrdinalEncoder(categories=[['Rural',\n",
       "                                                                              'Suburban',\n",
       "                                                                              'Urban'],\n",
       "                                                                             ['Non-public',\n",
       "                                                                              'Public'],\n",
       "                                                                             ['Experimental',\n",
       "                                                                              'Standard'],\n",
       "                                                                             ['Does '\n",
       "                                                                              'not '\n",
       "                                                                              'qualify',\n",
       "                                                                              'Qualifies '\n",
       "                                                                              'for '\n",
       "                                                                              'reduced/free '\n",
       "                                                                              'lunch']]))]),\n",
       "                                 ['school_setting', 'school_type',\n",
       "                                  'teaching_method', 'lunch']),\n",
       "                                ('cat_ohe',\n",
       "                                 Pipeline(steps=[('ohe_enc',\n",
       "                                                  OneHotEncoder(sparse=False))]),\n",
       "                                 ['gender'])])"
      ]
     },
     "execution_count": 41,
     "metadata": {},
     "output_type": "execute_result"
    }
   ],
   "source": [
    "full_pipeline"
   ]
  },
  {
   "cell_type": "markdown",
   "metadata": {},
   "source": [
    "Preprocessing Data:\n",
    "- pembuatan pipeline untuk ordinal encoding, OHE encoding dan pipeline keseluruhan\n",
    "- pengecekan kesesuaian hasil dari manual process dan pipeline process\n",
    "- penggunaan pipeline untuk data testing"
   ]
  },
  {
   "cell_type": "markdown",
   "metadata": {},
   "source": [
    "### MODEL BUILDING"
   ]
  },
  {
   "cell_type": "markdown",
   "metadata": {},
   "source": [
    "Adapun model yang digunakan adalah sebagai berikut:\n",
    "1. Desicion Tree\n",
    "2. Random Forest\n",
    "3. KNN\n",
    "4. Adaboost Classifier\n",
    "\n",
    "Statement : \n",
    "- `post_test`  : (1=poor graded, 0=good grade)\n",
    "- Mencari model terbaik dalam memprediksi kategori 1 yang mana kategori tersebut yang dijadikan urgensi dalam pemodelan ini"
   ]
  },
  {
   "cell_type": "code",
   "execution_count": 42,
   "metadata": {},
   "outputs": [],
   "source": [
    "dtc = DecisionTreeClassifier(random_state=42)\n",
    "rfc = RandomForestClassifier(random_state=0)\n",
    "knn = KNeighborsClassifier(n_neighbors=5)\n",
    "adb = AdaBoostClassifier()"
   ]
  },
  {
   "cell_type": "markdown",
   "metadata": {},
   "source": [
    "### MODEL EVALUATION"
   ]
  },
  {
   "cell_type": "markdown",
   "metadata": {},
   "source": [
    "#### Desicion Tree"
   ]
  },
  {
   "cell_type": "code",
   "execution_count": 43,
   "metadata": {},
   "outputs": [
    {
     "name": "stdout",
     "output_type": "stream",
     "text": [
      "              precision    recall  f1-score   support\n",
      "\n",
      "           0       0.80      0.87      0.84       717\n",
      "           1       0.89      0.82      0.85       867\n",
      "\n",
      "    accuracy                           0.85      1584\n",
      "   macro avg       0.85      0.85      0.85      1584\n",
      "weighted avg       0.85      0.85      0.85      1584\n",
      "\n",
      "              precision    recall  f1-score   support\n",
      "\n",
      "           0       0.83      0.90      0.86       239\n",
      "           1       0.91      0.84      0.88       290\n",
      "\n",
      "    accuracy                           0.87       529\n",
      "   macro avg       0.87      0.87      0.87       529\n",
      "weighted avg       0.87      0.87      0.87       529\n",
      "\n",
      "Confusion Matrix      : \n",
      " <sklearn.metrics._plot.confusion_matrix.ConfusionMatrixDisplay object at 0x0000012BE7FB6790>\n"
     ]
    },
    {
     "data": {
      "image/png": "[encoded data removed]",
      "text/plain": [
       "<Figure size 432x288 with 2 Axes>"
      ]
     },
     "metadata": {
      "needs_background": "light"
     },
     "output_type": "display_data"
    }
   ],
   "source": [
    "dtc.fit(train_tr, y_train)\n",
    "\n",
    "dtc_train = dtc.predict(train_tr)\n",
    "dtc_test = dtc.predict(test_tr)\n",
    "\n",
    "print(classification_report(y_train, dtc_train))\n",
    "print(classification_report(y_test, dtc_test))\n",
    "print('Confusion Matrix      : \\n', ConfusionMatrixDisplay.from_estimator(dtc, test_tr, y_test, cmap='inferno'))"
   ]
  },
  {
   "cell_type": "markdown",
   "metadata": {},
   "source": [
    "Decision Tree:\n",
    "- Dikarenakan data yang imbalance maka nilai akurasi tidak dapat dijadikan rujukan dalam melihat performa model\n",
    "- Metric evaluation berfokus pada nilai recall untuk kategori 1, yang mana nilai tersebut menunjukan nilai ketepatan model dalam memprediksi target\n",
    "- Nilai menunjukan bahwa model best fit, yang mana dapat dilihat recall untuk data train sebesar 0,82 dan data test sebesar 0,84\n",
    "- Dapat dilihat pula pada confusion matriks yang menunjukan model dapat memprediksi 245 data dengan benar dari 290 data (recall menunjukan ketepatan prediksi model dalam bentuk desimal)"
   ]
  },
  {
   "cell_type": "markdown",
   "metadata": {},
   "source": [
    "#### Random Forest"
   ]
  },
  {
   "cell_type": "code",
   "execution_count": 44,
   "metadata": {},
   "outputs": [
    {
     "name": "stdout",
     "output_type": "stream",
     "text": [
      "              precision    recall  f1-score   support\n",
      "\n",
      "           0       0.80      0.87      0.84       717\n",
      "           1       0.89      0.82      0.85       867\n",
      "\n",
      "    accuracy                           0.85      1584\n",
      "   macro avg       0.85      0.85      0.85      1584\n",
      "weighted avg       0.85      0.85      0.85      1584\n",
      "\n",
      "              precision    recall  f1-score   support\n",
      "\n",
      "           0       0.83      0.90      0.86       239\n",
      "           1       0.91      0.84      0.88       290\n",
      "\n",
      "    accuracy                           0.87       529\n",
      "   macro avg       0.87      0.87      0.87       529\n",
      "weighted avg       0.87      0.87      0.87       529\n",
      "\n",
      "Confusion Matrix      : \n",
      " <sklearn.metrics._plot.confusion_matrix.ConfusionMatrixDisplay object at 0x0000012BE851F430>\n"
     ]
    },
    {
     "data": {
      "image/png": "[encoded data removed]",
      "text/plain": [
       "<Figure size 432x288 with 2 Axes>"
      ]
     },
     "metadata": {
      "needs_background": "light"
     },
     "output_type": "display_data"
    }
   ],
   "source": [
    "rfc.fit(train_tr, y_train)\n",
    "\n",
    "rfc_train = rfc.predict(train_tr)\n",
    "rfc_test = rfc.predict(test_tr)\n",
    "\n",
    "print(classification_report(y_train, rfc_train))\n",
    "print(classification_report(y_test, rfc_test))\n",
    "print('Confusion Matrix      : \\n', ConfusionMatrixDisplay.from_estimator(rfc, test_tr, y_test, cmap='inferno'))"
   ]
  },
  {
   "cell_type": "markdown",
   "metadata": {},
   "source": [
    "Random Forest:\n",
    "- Dikarenakan data yang imbalance maka nilai akurasi tidak dapat dijadikan rujukan dalam melihat performa model\n",
    "- Metric evaluation berfokus pada nilai recall untuk kategori 1, yang mana nilai tersebut menunjukan nilai ketepatan model dalam memprediksi target\n",
    "- Nilai menunjukan bahwa model best fit, yang mana dapat dilihat recall untuk data train sebesar 0,82 dan data test sebesar 0,84\n",
    "- Dapat dilihat pula pada confusion matriks yang menunjukan model dapat memprediksi 245 data dengan benar dari 290 data (recall menunjukan ketepatan prediksi model dalam bentuk desimal)\n",
    "- hasil yang ditampilkan sama dengan model decision tree"
   ]
  },
  {
   "cell_type": "markdown",
   "metadata": {},
   "source": [
    "#### KNN"
   ]
  },
  {
   "cell_type": "code",
   "execution_count": 45,
   "metadata": {},
   "outputs": [
    {
     "name": "stdout",
     "output_type": "stream",
     "text": [
      "              precision    recall  f1-score   support\n",
      "\n",
      "           0       0.82      0.83      0.82       717\n",
      "           1       0.86      0.85      0.85       867\n",
      "\n",
      "    accuracy                           0.84      1584\n",
      "   macro avg       0.84      0.84      0.84      1584\n",
      "weighted avg       0.84      0.84      0.84      1584\n",
      "\n",
      "              precision    recall  f1-score   support\n",
      "\n",
      "           0       0.85      0.87      0.86       239\n",
      "           1       0.89      0.87      0.88       290\n",
      "\n",
      "    accuracy                           0.87       529\n",
      "   macro avg       0.87      0.87      0.87       529\n",
      "weighted avg       0.87      0.87      0.87       529\n",
      "\n",
      "Confusion Matrix      : \n",
      " <sklearn.metrics._plot.confusion_matrix.ConfusionMatrixDisplay object at 0x0000012BE8443C70>\n"
     ]
    },
    {
     "data": {
      "image/png": "[encoded data removed]",
      "text/plain": [
       "<Figure size 432x288 with 2 Axes>"
      ]
     },
     "metadata": {
      "needs_background": "light"
     },
     "output_type": "display_data"
    }
   ],
   "source": [
    "knn.fit(train_tr, y_train)\n",
    "\n",
    "knn_train = knn.predict(train_tr)\n",
    "knn_test = knn.predict(test_tr)\n",
    "\n",
    "print(classification_report(y_train, knn_train))\n",
    "print(classification_report(y_test, knn_test))\n",
    "print('Confusion Matrix      : \\n', ConfusionMatrixDisplay.from_estimator(knn, test_tr, y_test, cmap='inferno'))"
   ]
  },
  {
   "cell_type": "markdown",
   "metadata": {},
   "source": [
    "KKN:\n",
    "- Dikarenakan data yang imbalance maka nilai akurasi tidak dapat dijadikan rujukan dalam melihat performa model\n",
    "- Metric evaluation berfokus pada nilai recall untuk kategori 1, yang mana nilai tersebut menunjukan nilai ketepatan model dalam memprediksi target\n",
    "- Nilai menunjukan bahwa model best fit, yang mana dapat dilihat recall untuk data train sebesar 0,85 dan data test sebesar 0,87\n",
    "- Dapat dilihat pula pada confusion matriks yang menunjukan model dapat memprediksi 252 data dengan benar dari 290 data (recall menunjukan ketepatan prediksi model dalam bentuk desimal)"
   ]
  },
  {
   "cell_type": "markdown",
   "metadata": {},
   "source": [
    "#### Adaboost Classifier"
   ]
  },
  {
   "cell_type": "code",
   "execution_count": 46,
   "metadata": {},
   "outputs": [
    {
     "name": "stdout",
     "output_type": "stream",
     "text": [
      "              precision    recall  f1-score   support\n",
      "\n",
      "           0       0.83      0.78      0.80       717\n",
      "           1       0.83      0.87      0.85       867\n",
      "\n",
      "    accuracy                           0.83      1584\n",
      "   macro avg       0.83      0.82      0.83      1584\n",
      "weighted avg       0.83      0.83      0.83      1584\n",
      "\n",
      "              precision    recall  f1-score   support\n",
      "\n",
      "           0       0.86      0.82      0.84       239\n",
      "           1       0.86      0.89      0.87       290\n",
      "\n",
      "    accuracy                           0.86       529\n",
      "   macro avg       0.86      0.86      0.86       529\n",
      "weighted avg       0.86      0.86      0.86       529\n",
      "\n",
      "Confusion Matrix      : \n",
      " <sklearn.metrics._plot.confusion_matrix.ConfusionMatrixDisplay object at 0x0000012BE85E59D0>\n"
     ]
    },
    {
     "data": {
      "image/png": "[encoded data removed]",
      "text/plain": [
       "<Figure size 432x288 with 2 Axes>"
      ]
     },
     "metadata": {
      "needs_background": "light"
     },
     "output_type": "display_data"
    }
   ],
   "source": [
    "adb.fit(train_tr, y_train)\n",
    "\n",
    "adb_train = adb.predict(train_tr)\n",
    "adb_test = adb.predict(test_tr)\n",
    "\n",
    "print(classification_report(y_train, adb_train))\n",
    "print(classification_report(y_test, adb_test))\n",
    "print('Confusion Matrix      : \\n', ConfusionMatrixDisplay.from_estimator(adb, test_tr, y_test, cmap='inferno'))"
   ]
  },
  {
   "cell_type": "markdown",
   "metadata": {},
   "source": [
    "KKN:\n",
    "- Dikarenakan data yang imbalance maka nilai akurasi tidak dapat dijadikan rujukan dalam melihat performa model\n",
    "- Metric evaluation berfokus pada nilai recall untuk kategori 1, yang mana nilai tersebut menunjukan nilai ketepatan model dalam memprediksi target\n",
    "- Nilai menunjukan bahwa model best fit, yang mana dapat dilihat recall untuk data train sebesar 0,87 dan data test sebesar 0,89\n",
    "- Dapat dilihat pula pada confusion matriks yang menunjukan model dapat memprediksi 259 data dengan benar dari 290 data (recall menunjukan ketepatan prediksi model dalam bentuk desimal)"
   ]
  },
  {
   "cell_type": "markdown",
   "metadata": {},
   "source": [
    "Hasil Evaluation Model:\n",
    "- Decision tree dan Random forest menunjukan performa model yang sama\n",
    "- Dari semua model, model KNN menunjukan performa terbaik dibandingkan model lainnya, namun performa model masih harus diujicobakan menggunakan metode cross valuation"
   ]
  },
  {
   "cell_type": "markdown",
   "metadata": {},
   "source": [
    "### CROSS VALIDATION"
   ]
  },
  {
   "cell_type": "markdown",
   "metadata": {},
   "source": [
    "#### Decision Tree"
   ]
  },
  {
   "cell_type": "code",
   "execution_count": 47,
   "metadata": {},
   "outputs": [
    {
     "name": "stdout",
     "output_type": "stream",
     "text": [
      "DecissionTree\n",
      "accuracy Score - All - Cross Validation  :  [0.83280757 0.84858044 0.83280757 0.82649842 0.83544304]\n",
      "accuracy Score - Mean - Cross Validation :  0.8352274088567665\n",
      "accuracy Score - Std - Cross Validation  :  0.0072973476038319255\n",
      "accuracy Score - Range of Test-Set       :  0.8279300612529346 - 0.8425247564605984\n"
     ]
    }
   ],
   "source": [
    "cv_dtc = cross_val_score(dtc,train_tr, y_train, cv=5, scoring='accuracy')\n",
    "\n",
    "print('DecissionTree')\n",
    "print('accuracy Score - All - Cross Validation  : ', cv_dtc)\n",
    "print('accuracy Score - Mean - Cross Validation : ', cv_dtc.mean())\n",
    "print('accuracy Score - Std - Cross Validation  : ', cv_dtc.std())\n",
    "print('accuracy Score - Range of Test-Set       : ', (cv_dtc.mean()-cv_dtc.std()) , '-', (cv_dtc.mean()+cv_dtc.std()))"
   ]
  },
  {
   "cell_type": "markdown",
   "metadata": {},
   "source": [
    "#### Random Forest"
   ]
  },
  {
   "cell_type": "code",
   "execution_count": 48,
   "metadata": {},
   "outputs": [
    {
     "name": "stdout",
     "output_type": "stream",
     "text": [
      "RandomForest\n",
      "accuracy Score - All - Cross Validation  :  [0.82649842 0.84858044 0.83280757 0.82334385 0.83227848]\n",
      "accuracy Score - Mean - Cross Validation :  0.832701752984866\n",
      "accuracy Score - Std - Cross Validation  :  0.008699135489620003\n",
      "accuracy Score - Range of Test-Set       :  0.8240026174952461 - 0.841400888474486\n"
     ]
    }
   ],
   "source": [
    "cv_rfc = cross_val_score(rfc,train_tr, y_train, cv=5, scoring='accuracy')\n",
    "\n",
    "print('RandomForest')\n",
    "print('accuracy Score - All - Cross Validation  : ', cv_rfc)\n",
    "print('accuracy Score - Mean - Cross Validation : ', cv_rfc.mean())\n",
    "print('accuracy Score - Std - Cross Validation  : ', cv_rfc.std())\n",
    "print('accuracy Score - Range of Test-Set       : ', (cv_rfc.mean()-cv_rfc.std()) , '-', (cv_rfc.mean()+cv_rfc.std()))"
   ]
  },
  {
   "cell_type": "markdown",
   "metadata": {},
   "source": [
    "#### KNN"
   ]
  },
  {
   "cell_type": "code",
   "execution_count": 49,
   "metadata": {},
   "outputs": [
    {
     "name": "stdout",
     "output_type": "stream",
     "text": [
      "KNN\n",
      "accuracy Score - All - Cross Validation  :  [0.80757098 0.84542587 0.86119874 0.829653   0.8164557 ]\n",
      "accuracy Score - Mean - Cross Validation :  0.8320608553288343\n",
      "accuracy Score - Std - Cross Validation  :  0.01937375872908455\n",
      "accuracy Score - Range of Test-Set       :  0.8126870965997498 - 0.8514346140579189\n"
     ]
    }
   ],
   "source": [
    "cv_knn = cross_val_score(knn,train_tr, y_train, cv=5, scoring='accuracy')\n",
    "\n",
    "print('KNN')\n",
    "print('accuracy Score - All - Cross Validation  : ', cv_knn)\n",
    "print('accuracy Score - Mean - Cross Validation : ', cv_knn.mean())\n",
    "print('accuracy Score - Std - Cross Validation  : ', cv_knn.std())\n",
    "print('accuracy Score - Range of Test-Set       : ', (cv_knn.mean()-cv_knn.std()) , '-', (cv_knn.mean()+cv_knn.std()))"
   ]
  },
  {
   "cell_type": "markdown",
   "metadata": {},
   "source": [
    "#### Adaboost Classifier"
   ]
  },
  {
   "cell_type": "code",
   "execution_count": 50,
   "metadata": {},
   "outputs": [
    {
     "name": "stdout",
     "output_type": "stream",
     "text": [
      "AdaBoostClassifier\n",
      "accuracy Score - All - Cross Validation  :  [0.83596215 0.86119874 0.829653   0.80757098 0.80379747]\n",
      "accuracy Score - Mean - Cross Validation :  0.827636465279719\n",
      "accuracy Score - Std - Cross Validation  :  0.020836175576394236\n",
      "accuracy Score - Range of Test-Set       :  0.8068002897033247 - 0.8484726408561133\n"
     ]
    }
   ],
   "source": [
    "cv_adb = cross_val_score(adb,train_tr, y_train, cv=5, scoring='accuracy')\n",
    "\n",
    "print('AdaBoostClassifier')\n",
    "print('accuracy Score - All - Cross Validation  : ', cv_adb)\n",
    "print('accuracy Score - Mean - Cross Validation : ', cv_adb.mean())\n",
    "print('accuracy Score - Std - Cross Validation  : ', cv_adb.std())\n",
    "print('accuracy Score - Range of Test-Set       : ', (cv_adb.mean()-cv_adb.std()) , '-', (cv_adb.mean()+cv_adb.std()))"
   ]
  },
  {
   "cell_type": "markdown",
   "metadata": {},
   "source": [
    "#### Hasil Cross Valuation"
   ]
  },
  {
   "cell_type": "code",
   "execution_count": 51,
   "metadata": {},
   "outputs": [
    {
     "data": {
      "text/html": [
       "<div>\n",
       "<style scoped>\n",
       "    .dataframe tbody tr th:only-of-type {\n",
       "        vertical-align: middle;\n",
       "    }\n",
       "\n",
       "    .dataframe tbody tr th {\n",
       "        vertical-align: top;\n",
       "    }\n",
       "\n",
       "    .dataframe thead th {\n",
       "        text-align: right;\n",
       "    }\n",
       "</style>\n",
       "<table border=\"1\" class=\"dataframe\">\n",
       "  <thead>\n",
       "    <tr style=\"text-align: right;\">\n",
       "      <th></th>\n",
       "      <th>Model</th>\n",
       "      <th>Mean</th>\n",
       "      <th>Std</th>\n",
       "    </tr>\n",
       "  </thead>\n",
       "  <tbody>\n",
       "    <tr>\n",
       "      <th>0</th>\n",
       "      <td>Decision Tree</td>\n",
       "      <td>0.84</td>\n",
       "      <td>0.01</td>\n",
       "    </tr>\n",
       "    <tr>\n",
       "      <th>1</th>\n",
       "      <td>Random Forest</td>\n",
       "      <td>0.83</td>\n",
       "      <td>0.01</td>\n",
       "    </tr>\n",
       "    <tr>\n",
       "      <th>2</th>\n",
       "      <td>KNN</td>\n",
       "      <td>0.83</td>\n",
       "      <td>0.02</td>\n",
       "    </tr>\n",
       "    <tr>\n",
       "      <th>3</th>\n",
       "      <td>AdaBoost</td>\n",
       "      <td>0.83</td>\n",
       "      <td>0.02</td>\n",
       "    </tr>\n",
       "  </tbody>\n",
       "</table>\n",
       "</div>"
      ],
      "text/plain": [
       "           Model  Mean   Std\n",
       "0  Decision Tree  0.84  0.01\n",
       "1  Random Forest  0.83  0.01\n",
       "2            KNN  0.83  0.02\n",
       "3       AdaBoost  0.83  0.02"
      ]
     },
     "execution_count": 51,
     "metadata": {},
     "output_type": "execute_result"
    }
   ],
   "source": [
    "crossval = [cv_dtc,cv_rfc,cv_knn,cv_adb]\n",
    "mean = []\n",
    "std = []\n",
    "for i in crossval:\n",
    "    mean.append(i.mean())\n",
    "    std.append(i.std())\n",
    "model = ['Decision Tree', 'Random Forest', 'KNN', 'AdaBoost']\n",
    "bestmodel = pd.DataFrame(model)\n",
    "bestmodel['Mean']=np.round(mean,2)\n",
    "bestmodel['Std']=np.round(std,2)\n",
    "bestmodel.rename(columns={0:'Model'},inplace = True)\n",
    "bestmodel.sort_values(by= 'Mean' , ascending = False).reset_index(drop=True)"
   ]
  },
  {
   "cell_type": "markdown",
   "metadata": {},
   "source": [
    "Cross Valuation dilakukan pada semua model dengan tujuan untuk melihat konsistensi model dalam mengolah dan memprediksi data. Hasil digunakan untuk menentukan model terbaik yang selanjutnya dilakukan perlakuan hyperparameter tuning. Pemilihan model dilihat dari nilai mean terbesar dan nilai standardeviasi terkecil. Hasil adalah sebagai berikut:\n",
    "- Standar deviasi tiap-tiap model menunjukan nilai yang rendah, yang mana selanjutnya dapat dilihat nilai mean pada tiap-tiap model\n",
    "- Model Decision tree menunjukan performa terbaik dibandingkan model lainnya. selanjutnya model decision tree akan dilakukan model improvement"
   ]
  },
  {
   "cell_type": "markdown",
   "metadata": {},
   "source": [
    "### Model Improvement"
   ]
  },
  {
   "cell_type": "markdown",
   "metadata": {},
   "source": [
    "#### HYPER-PARAMETER TUNNING"
   ]
  },
  {
   "cell_type": "code",
   "execution_count": 52,
   "metadata": {},
   "outputs": [],
   "source": [
    "params = {\n",
    "    'max_depth': [2, 3, 5, 7, 10, 15],\n",
    "    'min_samples_leaf': [5, 10, 15, 20, 25, 30, 35],\n",
    "    'criterion': [\"gini\", \"entropy\"]\n",
    "}"
   ]
  },
  {
   "cell_type": "code",
   "execution_count": 53,
   "metadata": {},
   "outputs": [
    {
     "data": {
      "text/html": [
       "<style>#sk-container-id-2 {color: black;background-color: white;}#sk-container-id-2 pre{padding: 0;}#sk-container-id-2 div.sk-toggleable {background-color: white;}#sk-container-id-2 label.sk-toggleable__label {cursor: pointer;display: block;width: 100%;margin-bottom: 0;padding: 0.3em;box-sizing: border-box;text-align: center;}#sk-container-id-2 label.sk-toggleable__label-arrow:before {content: \"▸\";float: left;margin-right: 0.25em;color: #696969;}#sk-container-id-2 label.sk-toggleable__label-arrow:hover:before {color: black;}#sk-container-id-2 div.sk-estimator:hover label.sk-toggleable__label-arrow:before {color: black;}#sk-container-id-2 div.sk-toggleable__content {max-height: 0;max-width: 0;overflow: hidden;text-align: left;background-color: #f0f8ff;}#sk-container-id-2 div.sk-toggleable__content pre {margin: 0.2em;color: black;border-radius: 0.25em;background-color: #f0f8ff;}#sk-container-id-2 input.sk-toggleable__control:checked~div.sk-toggleable__content {max-height: 200px;max-width: 100%;overflow: auto;}#sk-container-id-2 input.sk-toggleable__control:checked~label.sk-toggleable__label-arrow:before {content: \"▾\";}#sk-container-id-2 div.sk-estimator input.sk-toggleable__control:checked~label.sk-toggleable__label {background-color: #d4ebff;}#sk-container-id-2 div.sk-label input.sk-toggleable__control:checked~label.sk-toggleable__label {background-color: #d4ebff;}#sk-container-id-2 input.sk-hidden--visually {border: 0;clip: rect(1px 1px 1px 1px);clip: rect(1px, 1px, 1px, 1px);height: 1px;margin: -1px;overflow: hidden;padding: 0;position: absolute;width: 1px;}#sk-container-id-2 div.sk-estimator {font-family: monospace;background-color: #f0f8ff;border: 1px dotted black;border-radius: 0.25em;box-sizing: border-box;margin-bottom: 0.5em;}#sk-container-id-2 div.sk-estimator:hover {background-color: #d4ebff;}#sk-container-id-2 div.sk-parallel-item::after {content: \"\";width: 100%;border-bottom: 1px solid gray;flex-grow: 1;}#sk-container-id-2 div.sk-label:hover label.sk-toggleable__label {background-color: #d4ebff;}#sk-container-id-2 div.sk-serial::before {content: \"\";position: absolute;border-left: 1px solid gray;box-sizing: border-box;top: 0;bottom: 0;left: 50%;z-index: 0;}#sk-container-id-2 div.sk-serial {display: flex;flex-direction: column;align-items: center;background-color: white;padding-right: 0.2em;padding-left: 0.2em;position: relative;}#sk-container-id-2 div.sk-item {position: relative;z-index: 1;}#sk-container-id-2 div.sk-parallel {display: flex;align-items: stretch;justify-content: center;background-color: white;position: relative;}#sk-container-id-2 div.sk-item::before, #sk-container-id-2 div.sk-parallel-item::before {content: \"\";position: absolute;border-left: 1px solid gray;box-sizing: border-box;top: 0;bottom: 0;left: 50%;z-index: -1;}#sk-container-id-2 div.sk-parallel-item {display: flex;flex-direction: column;z-index: 1;position: relative;background-color: white;}#sk-container-id-2 div.sk-parallel-item:first-child::after {align-self: flex-end;width: 50%;}#sk-container-id-2 div.sk-parallel-item:last-child::after {align-self: flex-start;width: 50%;}#sk-container-id-2 div.sk-parallel-item:only-child::after {width: 0;}#sk-container-id-2 div.sk-dashed-wrapped {border: 1px dashed gray;margin: 0 0.4em 0.5em 0.4em;box-sizing: border-box;padding-bottom: 0.4em;background-color: white;}#sk-container-id-2 div.sk-label label {font-family: monospace;font-weight: bold;display: inline-block;line-height: 1.2em;}#sk-container-id-2 div.sk-label-container {text-align: center;}#sk-container-id-2 div.sk-container {/* jupyter's `normalize.less` sets `[hidden] { display: none; }` but bootstrap.min.css set `[hidden] { display: none !important; }` so we also need the `!important` here to be able to override the default hidden behavior on the sphinx rendered scikit-learn.org. See: https://github.com/scikit-learn/scikit-learn/issues/21755 */display: inline-block !important;position: relative;}#sk-container-id-2 div.sk-text-repr-fallback {display: none;}</style><div id=\"sk-container-id-2\" class=\"sk-top-container\"><div class=\"sk-text-repr-fallback\"><pre>GridSearchCV(cv=3, estimator=DecisionTreeClassifier(random_state=42),\n",
       "             param_grid={&#x27;criterion&#x27;: [&#x27;gini&#x27;, &#x27;entropy&#x27;],\n",
       "                         &#x27;max_depth&#x27;: [2, 3, 5, 7, 10, 15],\n",
       "                         &#x27;min_samples_leaf&#x27;: [5, 10, 15, 20, 25, 30, 35]},\n",
       "             return_train_score=True, scoring=&#x27;recall&#x27;)</pre><b>In a Jupyter environment, please rerun this cell to show the HTML representation or trust the notebook. <br />On GitHub, the HTML representation is unable to render, please try loading this page with nbviewer.org.</b></div><div class=\"sk-container\" hidden><div class=\"sk-item sk-dashed-wrapped\"><div class=\"sk-label-container\"><div class=\"sk-label sk-toggleable\"><input class=\"sk-toggleable__control sk-hidden--visually\" id=\"sk-estimator-id-6\" type=\"checkbox\" ><label for=\"sk-estimator-id-6\" class=\"sk-toggleable__label sk-toggleable__label-arrow\">GridSearchCV</label><div class=\"sk-toggleable__content\"><pre>GridSearchCV(cv=3, estimator=DecisionTreeClassifier(random_state=42),\n",
       "             param_grid={&#x27;criterion&#x27;: [&#x27;gini&#x27;, &#x27;entropy&#x27;],\n",
       "                         &#x27;max_depth&#x27;: [2, 3, 5, 7, 10, 15],\n",
       "                         &#x27;min_samples_leaf&#x27;: [5, 10, 15, 20, 25, 30, 35]},\n",
       "             return_train_score=True, scoring=&#x27;recall&#x27;)</pre></div></div></div><div class=\"sk-parallel\"><div class=\"sk-parallel-item\"><div class=\"sk-item\"><div class=\"sk-label-container\"><div class=\"sk-label sk-toggleable\"><input class=\"sk-toggleable__control sk-hidden--visually\" id=\"sk-estimator-id-7\" type=\"checkbox\" ><label for=\"sk-estimator-id-7\" class=\"sk-toggleable__label sk-toggleable__label-arrow\">estimator: DecisionTreeClassifier</label><div class=\"sk-toggleable__content\"><pre>DecisionTreeClassifier(random_state=42)</pre></div></div></div><div class=\"sk-serial\"><div class=\"sk-item\"><div class=\"sk-estimator sk-toggleable\"><input class=\"sk-toggleable__control sk-hidden--visually\" id=\"sk-estimator-id-8\" type=\"checkbox\" ><label for=\"sk-estimator-id-8\" class=\"sk-toggleable__label sk-toggleable__label-arrow\">DecisionTreeClassifier</label><div class=\"sk-toggleable__content\"><pre>DecisionTreeClassifier(random_state=42)</pre></div></div></div></div></div></div></div></div></div></div>"
      ],
      "text/plain": [
       "GridSearchCV(cv=3, estimator=DecisionTreeClassifier(random_state=42),\n",
       "             param_grid={'criterion': ['gini', 'entropy'],\n",
       "                         'max_depth': [2, 3, 5, 7, 10, 15],\n",
       "                         'min_samples_leaf': [5, 10, 15, 20, 25, 30, 35]},\n",
       "             return_train_score=True, scoring='recall')"
      ]
     },
     "execution_count": 53,
     "metadata": {},
     "output_type": "execute_result"
    }
   ],
   "source": [
    "grid_search = GridSearchCV(dtc, param_grid=params, cv=3,\n",
    "                           scoring='recall',\n",
    "                           return_train_score=True)\n",
    "grid_search.fit(train_tr, y_train)"
   ]
  },
  {
   "cell_type": "code",
   "execution_count": 54,
   "metadata": {},
   "outputs": [
    {
     "name": "stdout",
     "output_type": "stream",
     "text": [
      "best params: {'criterion': 'gini', 'max_depth': 5, 'min_samples_leaf': 35}\n",
      "best score: 0.839677047289504\n"
     ]
    }
   ],
   "source": [
    "print('best params:', grid_search.best_params_)\n",
    "print('best score:', grid_search.best_score_)"
   ]
  },
  {
   "cell_type": "code",
   "execution_count": 55,
   "metadata": {},
   "outputs": [
    {
     "name": "stdout",
     "output_type": "stream",
     "text": [
      "              precision    recall  f1-score   support\n",
      "\n",
      "           0       0.81      0.84      0.82       717\n",
      "           1       0.86      0.84      0.85       867\n",
      "\n",
      "    accuracy                           0.84      1584\n",
      "   macro avg       0.84      0.84      0.84      1584\n",
      "weighted avg       0.84      0.84      0.84      1584\n",
      "\n",
      "              precision    recall  f1-score   support\n",
      "\n",
      "           0       0.83      0.84      0.83       239\n",
      "           1       0.86      0.86      0.86       290\n",
      "\n",
      "    accuracy                           0.85       529\n",
      "   macro avg       0.85      0.85      0.85       529\n",
      "weighted avg       0.85      0.85      0.85       529\n",
      "\n",
      "Confusion Matrix      : \n",
      " <sklearn.metrics._plot.confusion_matrix.ConfusionMatrixDisplay object at 0x0000012BE8503220>\n"
     ]
    },
    {
     "data": {
      "image/png": "[encoded data removed]",
      "text/plain": [
       "<Figure size 432x288 with 2 Axes>"
      ]
     },
     "metadata": {
      "needs_background": "light"
     },
     "output_type": "display_data"
    }
   ],
   "source": [
    "model = grid_search.best_estimator_\n",
    "\n",
    "model.fit(train_tr, y_train)\n",
    "\n",
    "model_train = model.predict(train_tr)\n",
    "model_test = model.predict(test_tr)\n",
    "\n",
    "print(classification_report(y_train, model_train))\n",
    "print(classification_report(y_test, model_test))\n",
    "print('Confusion Matrix      : \\n', ConfusionMatrixDisplay.from_estimator(dtc, test_tr, y_test, cmap='inferno'))"
   ]
  },
  {
   "cell_type": "code",
   "execution_count": 56,
   "metadata": {},
   "outputs": [
    {
     "name": "stdout",
     "output_type": "stream",
     "text": [
      "              precision    recall  f1-score   support\n",
      "\n",
      "           0       0.80      0.87      0.84       717\n",
      "           1       0.89      0.82      0.85       867\n",
      "\n",
      "    accuracy                           0.85      1584\n",
      "   macro avg       0.85      0.85      0.85      1584\n",
      "weighted avg       0.85      0.85      0.85      1584\n",
      "\n",
      "              precision    recall  f1-score   support\n",
      "\n",
      "           0       0.83      0.90      0.86       239\n",
      "           1       0.91      0.84      0.88       290\n",
      "\n",
      "    accuracy                           0.87       529\n",
      "   macro avg       0.87      0.87      0.87       529\n",
      "weighted avg       0.87      0.87      0.87       529\n",
      "\n",
      "Confusion Matrix      : \n",
      " <sklearn.metrics._plot.confusion_matrix.ConfusionMatrixDisplay object at 0x0000012BE85317C0>\n"
     ]
    },
    {
     "data": {
      "image/png": "[encoded data removed]",
      "text/plain": [
       "<Figure size 432x288 with 2 Axes>"
      ]
     },
     "metadata": {
      "needs_background": "light"
     },
     "output_type": "display_data"
    }
   ],
   "source": [
    "print(classification_report(y_train, dtc_train))\n",
    "print(classification_report(y_test, dtc_test))\n",
    "print('Confusion Matrix      : \\n', ConfusionMatrixDisplay.from_estimator(model, test_tr, y_test, cmap='inferno'))"
   ]
  },
  {
   "cell_type": "markdown",
   "metadata": {},
   "source": [
    "Hasil Hyper_parameter Tuning:\n",
    "- dari evaluation matric menunjukan tuning pada decision tree sedikit menaikan nilai recall \n",
    "- namun confusion metric tidak menunjukan adanya perbedaan antara parameter default dan parameter yang dituning"
   ]
  },
  {
   "cell_type": "markdown",
   "metadata": {},
   "source": [
    "#### Balancing Data"
   ]
  },
  {
   "cell_type": "markdown",
   "metadata": {},
   "source": [
    "Under Sampling"
   ]
  },
  {
   "cell_type": "code",
   "execution_count": 57,
   "metadata": {},
   "outputs": [
    {
     "data": {
      "text/plain": [
       "1    867\n",
       "0    717\n",
       "Name: post_test, dtype: int64"
      ]
     },
     "execution_count": 57,
     "metadata": {},
     "output_type": "execute_result"
    }
   ],
   "source": [
    "df_eda['post_test'].value_counts()"
   ]
  },
  {
   "cell_type": "code",
   "execution_count": 58,
   "metadata": {},
   "outputs": [
    {
     "data": {
      "image/png": "[encoded data removed]",
      "text/plain": [
       "<Figure size 432x288 with 1 Axes>"
      ]
     },
     "metadata": {
      "needs_background": "light"
     },
     "output_type": "display_data"
    }
   ],
   "source": [
    "X_train_im, y_train_im = make_imbalance(X_train,y_train,sampling_strategy={0: 717, 1: 717},random_state=42)\n",
    "y_train.value_counts().plot(kind='bar')\n",
    "plt.title('label balance')\n",
    "plt.xlabel('label values')\n",
    "plt.ylabel('amount per label')\n",
    "plt.show()"
   ]
  },
  {
   "cell_type": "code",
   "execution_count": 59,
   "metadata": {},
   "outputs": [
    {
     "data": {
      "image/png": "[encoded data removed]",
      "text/plain": [
       "<Figure size 432x288 with 1 Axes>"
      ]
     },
     "metadata": {
      "needs_background": "light"
     },
     "output_type": "display_data"
    }
   ],
   "source": [
    "y_train_im.value_counts().plot(kind='bar')\n",
    "plt.title('label balance')\n",
    "plt.xlabel('label values')\n",
    "plt.ylabel('amount per label')\n",
    "plt.show()"
   ]
  },
  {
   "cell_type": "code",
   "execution_count": 60,
   "metadata": {},
   "outputs": [
    {
     "data": {
      "text/plain": [
       "array([[0., 1., 1., 0., 1., 0.],\n",
       "       [1., 1., 0., 0., 0., 1.],\n",
       "       [1., 1., 0., 1., 1., 0.],\n",
       "       ...,\n",
       "       [0., 0., 1., 1., 0., 1.],\n",
       "       [1., 0., 0., 1., 1., 0.],\n",
       "       [1., 1., 1., 0., 1., 0.]])"
      ]
     },
     "execution_count": 60,
     "metadata": {},
     "output_type": "execute_result"
    }
   ],
   "source": [
    "train_tr1 = full_pipeline.transform(X_train_im)\n",
    "train_tr1"
   ]
  },
  {
   "cell_type": "markdown",
   "metadata": {},
   "source": [
    "MODEL DECISION TREE"
   ]
  },
  {
   "cell_type": "code",
   "execution_count": 61,
   "metadata": {},
   "outputs": [
    {
     "name": "stdout",
     "output_type": "stream",
     "text": [
      "              precision    recall  f1-score   support\n",
      "\n",
      "           0       0.82      0.91      0.86       717\n",
      "           1       0.90      0.79      0.84       717\n",
      "\n",
      "    accuracy                           0.85      1434\n",
      "   macro avg       0.86      0.85      0.85      1434\n",
      "weighted avg       0.86      0.85      0.85      1434\n",
      "\n",
      "              precision    recall  f1-score   support\n",
      "\n",
      "           0       0.81      0.92      0.86       239\n",
      "           1       0.93      0.82      0.87       290\n",
      "\n",
      "    accuracy                           0.87       529\n",
      "   macro avg       0.87      0.87      0.87       529\n",
      "weighted avg       0.87      0.87      0.87       529\n",
      "\n",
      "Confusion Matrix      : \n",
      " <sklearn.metrics._plot.confusion_matrix.ConfusionMatrixDisplay object at 0x0000012BE88058E0>\n"
     ]
    },
    {
     "data": {
      "image/png": "[encoded data removed]",
      "text/plain": [
       "<Figure size 432x288 with 2 Axes>"
      ]
     },
     "metadata": {
      "needs_background": "light"
     },
     "output_type": "display_data"
    }
   ],
   "source": [
    "dtc.fit(train_tr1, y_train_im)\n",
    "\n",
    "dtc_train1 = dtc.predict(train_tr1)\n",
    "dtc_test = dtc.predict(test_tr)\n",
    "\n",
    "print(classification_report(y_train_im, dtc_train1))\n",
    "print(classification_report(y_test, dtc_test))\n",
    "print('Confusion Matrix      : \\n', ConfusionMatrixDisplay.from_estimator(dtc, test_tr, y_test, cmap='inferno'))"
   ]
  },
  {
   "cell_type": "markdown",
   "metadata": {},
   "source": [
    "Balancing Data:\n",
    "- balancing data menggunakan under sampling, dengan menyamakan jumlah data kategori 0 dengan kategori 1\n",
    "- hasil performa model tidak lebih baik dari data sebelum disamakan jumlah datanya. Untuk prediksi pada kategori 1 mununjukan model tidak lebih baik namun perlakuan balancing data memperbaiki model dalam memprediksi kategori 0 "
   ]
  },
  {
   "cell_type": "code",
   "execution_count": 62,
   "metadata": {},
   "outputs": [
    {
     "data": {
      "text/html": [
       "<style>#sk-container-id-3 {color: black;background-color: white;}#sk-container-id-3 pre{padding: 0;}#sk-container-id-3 div.sk-toggleable {background-color: white;}#sk-container-id-3 label.sk-toggleable__label {cursor: pointer;display: block;width: 100%;margin-bottom: 0;padding: 0.3em;box-sizing: border-box;text-align: center;}#sk-container-id-3 label.sk-toggleable__label-arrow:before {content: \"▸\";float: left;margin-right: 0.25em;color: #696969;}#sk-container-id-3 label.sk-toggleable__label-arrow:hover:before {color: black;}#sk-container-id-3 div.sk-estimator:hover label.sk-toggleable__label-arrow:before {color: black;}#sk-container-id-3 div.sk-toggleable__content {max-height: 0;max-width: 0;overflow: hidden;text-align: left;background-color: #f0f8ff;}#sk-container-id-3 div.sk-toggleable__content pre {margin: 0.2em;color: black;border-radius: 0.25em;background-color: #f0f8ff;}#sk-container-id-3 input.sk-toggleable__control:checked~div.sk-toggleable__content {max-height: 200px;max-width: 100%;overflow: auto;}#sk-container-id-3 input.sk-toggleable__control:checked~label.sk-toggleable__label-arrow:before {content: \"▾\";}#sk-container-id-3 div.sk-estimator input.sk-toggleable__control:checked~label.sk-toggleable__label {background-color: #d4ebff;}#sk-container-id-3 div.sk-label input.sk-toggleable__control:checked~label.sk-toggleable__label {background-color: #d4ebff;}#sk-container-id-3 input.sk-hidden--visually {border: 0;clip: rect(1px 1px 1px 1px);clip: rect(1px, 1px, 1px, 1px);height: 1px;margin: -1px;overflow: hidden;padding: 0;position: absolute;width: 1px;}#sk-container-id-3 div.sk-estimator {font-family: monospace;background-color: #f0f8ff;border: 1px dotted black;border-radius: 0.25em;box-sizing: border-box;margin-bottom: 0.5em;}#sk-container-id-3 div.sk-estimator:hover {background-color: #d4ebff;}#sk-container-id-3 div.sk-parallel-item::after {content: \"\";width: 100%;border-bottom: 1px solid gray;flex-grow: 1;}#sk-container-id-3 div.sk-label:hover label.sk-toggleable__label {background-color: #d4ebff;}#sk-container-id-3 div.sk-serial::before {content: \"\";position: absolute;border-left: 1px solid gray;box-sizing: border-box;top: 0;bottom: 0;left: 50%;z-index: 0;}#sk-container-id-3 div.sk-serial {display: flex;flex-direction: column;align-items: center;background-color: white;padding-right: 0.2em;padding-left: 0.2em;position: relative;}#sk-container-id-3 div.sk-item {position: relative;z-index: 1;}#sk-container-id-3 div.sk-parallel {display: flex;align-items: stretch;justify-content: center;background-color: white;position: relative;}#sk-container-id-3 div.sk-item::before, #sk-container-id-3 div.sk-parallel-item::before {content: \"\";position: absolute;border-left: 1px solid gray;box-sizing: border-box;top: 0;bottom: 0;left: 50%;z-index: -1;}#sk-container-id-3 div.sk-parallel-item {display: flex;flex-direction: column;z-index: 1;position: relative;background-color: white;}#sk-container-id-3 div.sk-parallel-item:first-child::after {align-self: flex-end;width: 50%;}#sk-container-id-3 div.sk-parallel-item:last-child::after {align-self: flex-start;width: 50%;}#sk-container-id-3 div.sk-parallel-item:only-child::after {width: 0;}#sk-container-id-3 div.sk-dashed-wrapped {border: 1px dashed gray;margin: 0 0.4em 0.5em 0.4em;box-sizing: border-box;padding-bottom: 0.4em;background-color: white;}#sk-container-id-3 div.sk-label label {font-family: monospace;font-weight: bold;display: inline-block;line-height: 1.2em;}#sk-container-id-3 div.sk-label-container {text-align: center;}#sk-container-id-3 div.sk-container {/* jupyter's `normalize.less` sets `[hidden] { display: none; }` but bootstrap.min.css set `[hidden] { display: none !important; }` so we also need the `!important` here to be able to override the default hidden behavior on the sphinx rendered scikit-learn.org. See: https://github.com/scikit-learn/scikit-learn/issues/21755 */display: inline-block !important;position: relative;}#sk-container-id-3 div.sk-text-repr-fallback {display: none;}</style><div id=\"sk-container-id-3\" class=\"sk-top-container\"><div class=\"sk-text-repr-fallback\"><pre>ColumnTransformer(transformers=[(&#x27;cat_ord&#x27;,\n",
       "                                 Pipeline(steps=[(&#x27;ordinal_enc&#x27;,\n",
       "                                                  OrdinalEncoder(categories=[[&#x27;Rural&#x27;,\n",
       "                                                                              &#x27;Suburban&#x27;,\n",
       "                                                                              &#x27;Urban&#x27;],\n",
       "                                                                             [&#x27;Non-public&#x27;,\n",
       "                                                                              &#x27;Public&#x27;],\n",
       "                                                                             [&#x27;Experimental&#x27;,\n",
       "                                                                              &#x27;Standard&#x27;],\n",
       "                                                                             [&#x27;Does &#x27;\n",
       "                                                                              &#x27;not &#x27;\n",
       "                                                                              &#x27;qualify&#x27;,\n",
       "                                                                              &#x27;Qualifies &#x27;\n",
       "                                                                              &#x27;for &#x27;\n",
       "                                                                              &#x27;reduced/free &#x27;\n",
       "                                                                              &#x27;lunch&#x27;]]))]),\n",
       "                                 [&#x27;school_setting&#x27;, &#x27;school_type&#x27;,\n",
       "                                  &#x27;teaching_method&#x27;, &#x27;lunch&#x27;]),\n",
       "                                (&#x27;cat_ohe&#x27;,\n",
       "                                 Pipeline(steps=[(&#x27;ohe_enc&#x27;,\n",
       "                                                  OneHotEncoder(sparse=False))]),\n",
       "                                 [&#x27;gender&#x27;])])</pre><b>In a Jupyter environment, please rerun this cell to show the HTML representation or trust the notebook. <br />On GitHub, the HTML representation is unable to render, please try loading this page with nbviewer.org.</b></div><div class=\"sk-container\" hidden><div class=\"sk-item sk-dashed-wrapped\"><div class=\"sk-label-container\"><div class=\"sk-label sk-toggleable\"><input class=\"sk-toggleable__control sk-hidden--visually\" id=\"sk-estimator-id-9\" type=\"checkbox\" ><label for=\"sk-estimator-id-9\" class=\"sk-toggleable__label sk-toggleable__label-arrow\">ColumnTransformer</label><div class=\"sk-toggleable__content\"><pre>ColumnTransformer(transformers=[(&#x27;cat_ord&#x27;,\n",
       "                                 Pipeline(steps=[(&#x27;ordinal_enc&#x27;,\n",
       "                                                  OrdinalEncoder(categories=[[&#x27;Rural&#x27;,\n",
       "                                                                              &#x27;Suburban&#x27;,\n",
       "                                                                              &#x27;Urban&#x27;],\n",
       "                                                                             [&#x27;Non-public&#x27;,\n",
       "                                                                              &#x27;Public&#x27;],\n",
       "                                                                             [&#x27;Experimental&#x27;,\n",
       "                                                                              &#x27;Standard&#x27;],\n",
       "                                                                             [&#x27;Does &#x27;\n",
       "                                                                              &#x27;not &#x27;\n",
       "                                                                              &#x27;qualify&#x27;,\n",
       "                                                                              &#x27;Qualifies &#x27;\n",
       "                                                                              &#x27;for &#x27;\n",
       "                                                                              &#x27;reduced/free &#x27;\n",
       "                                                                              &#x27;lunch&#x27;]]))]),\n",
       "                                 [&#x27;school_setting&#x27;, &#x27;school_type&#x27;,\n",
       "                                  &#x27;teaching_method&#x27;, &#x27;lunch&#x27;]),\n",
       "                                (&#x27;cat_ohe&#x27;,\n",
       "                                 Pipeline(steps=[(&#x27;ohe_enc&#x27;,\n",
       "                                                  OneHotEncoder(sparse=False))]),\n",
       "                                 [&#x27;gender&#x27;])])</pre></div></div></div><div class=\"sk-parallel\"><div class=\"sk-parallel-item\"><div class=\"sk-item\"><div class=\"sk-label-container\"><div class=\"sk-label sk-toggleable\"><input class=\"sk-toggleable__control sk-hidden--visually\" id=\"sk-estimator-id-10\" type=\"checkbox\" ><label for=\"sk-estimator-id-10\" class=\"sk-toggleable__label sk-toggleable__label-arrow\">cat_ord</label><div class=\"sk-toggleable__content\"><pre>[&#x27;school_setting&#x27;, &#x27;school_type&#x27;, &#x27;teaching_method&#x27;, &#x27;lunch&#x27;]</pre></div></div></div><div class=\"sk-serial\"><div class=\"sk-item\"><div class=\"sk-serial\"><div class=\"sk-item\"><div class=\"sk-estimator sk-toggleable\"><input class=\"sk-toggleable__control sk-hidden--visually\" id=\"sk-estimator-id-11\" type=\"checkbox\" ><label for=\"sk-estimator-id-11\" class=\"sk-toggleable__label sk-toggleable__label-arrow\">OrdinalEncoder</label><div class=\"sk-toggleable__content\"><pre>OrdinalEncoder(categories=[[&#x27;Rural&#x27;, &#x27;Suburban&#x27;, &#x27;Urban&#x27;],\n",
       "                           [&#x27;Non-public&#x27;, &#x27;Public&#x27;],\n",
       "                           [&#x27;Experimental&#x27;, &#x27;Standard&#x27;],\n",
       "                           [&#x27;Does not qualify&#x27;,\n",
       "                            &#x27;Qualifies for reduced/free lunch&#x27;]])</pre></div></div></div></div></div></div></div></div><div class=\"sk-parallel-item\"><div class=\"sk-item\"><div class=\"sk-label-container\"><div class=\"sk-label sk-toggleable\"><input class=\"sk-toggleable__control sk-hidden--visually\" id=\"sk-estimator-id-12\" type=\"checkbox\" ><label for=\"sk-estimator-id-12\" class=\"sk-toggleable__label sk-toggleable__label-arrow\">cat_ohe</label><div class=\"sk-toggleable__content\"><pre>[&#x27;gender&#x27;]</pre></div></div></div><div class=\"sk-serial\"><div class=\"sk-item\"><div class=\"sk-serial\"><div class=\"sk-item\"><div class=\"sk-estimator sk-toggleable\"><input class=\"sk-toggleable__control sk-hidden--visually\" id=\"sk-estimator-id-13\" type=\"checkbox\" ><label for=\"sk-estimator-id-13\" class=\"sk-toggleable__label sk-toggleable__label-arrow\">OneHotEncoder</label><div class=\"sk-toggleable__content\"><pre>OneHotEncoder(sparse=False)</pre></div></div></div></div></div></div></div></div></div></div></div></div>"
      ],
      "text/plain": [
       "ColumnTransformer(transformers=[('cat_ord',\n",
       "                                 Pipeline(steps=[('ordinal_enc',\n",
       "                                                  OrdinalEncoder(categories=[['Rural',\n",
       "                                                                              'Suburban',\n",
       "                                                                              'Urban'],\n",
       "                                                                             ['Non-public',\n",
       "                                                                              'Public'],\n",
       "                                                                             ['Experimental',\n",
       "                                                                              'Standard'],\n",
       "                                                                             ['Does '\n",
       "                                                                              'not '\n",
       "                                                                              'qualify',\n",
       "                                                                              'Qualifies '\n",
       "                                                                              'for '\n",
       "                                                                              'reduced/free '\n",
       "                                                                              'lunch']]))]),\n",
       "                                 ['school_setting', 'school_type',\n",
       "                                  'teaching_method', 'lunch']),\n",
       "                                ('cat_ohe',\n",
       "                                 Pipeline(steps=[('ohe_enc',\n",
       "                                                  OneHotEncoder(sparse=False))]),\n",
       "                                 ['gender'])])"
      ]
     },
     "execution_count": 62,
     "metadata": {},
     "output_type": "execute_result"
    }
   ],
   "source": [
    "full_pipeline"
   ]
  },
  {
   "cell_type": "markdown",
   "metadata": {},
   "source": [
    "#### Combine pipeline: preprocess and model"
   ]
  },
  {
   "cell_type": "code",
   "execution_count": 64,
   "metadata": {},
   "outputs": [
    {
     "name": "stdout",
     "output_type": "stream",
     "text": [
      "              precision    recall  f1-score   support\n",
      "\n",
      "           0       0.81      0.84      0.82       717\n",
      "           1       0.86      0.84      0.85       867\n",
      "\n",
      "    accuracy                           0.84      1584\n",
      "   macro avg       0.84      0.84      0.84      1584\n",
      "weighted avg       0.84      0.84      0.84      1584\n",
      "\n",
      "              precision    recall  f1-score   support\n",
      "\n",
      "           0       0.83      0.84      0.83       239\n",
      "           1       0.86      0.86      0.86       290\n",
      "\n",
      "    accuracy                           0.85       529\n",
      "   macro avg       0.85      0.85      0.85       529\n",
      "weighted avg       0.85      0.85      0.85       529\n",
      "\n"
     ]
    }
   ],
   "source": [
    "all_process = Pipeline([\n",
    "            ('preprocess', full_pipeline),\n",
    "            ('classification', model)\n",
    "            ])\n",
    "\n",
    "all_process.fit(X_train, y_train)\n",
    "hasil_train = all_process.predict(X_train)\n",
    "hasil_test = all_process.predict(X_test)\n",
    "\n",
    "print(classification_report(y_train, hasil_train))\n",
    "print(classification_report(y_test, hasil_test))"
   ]
  },
  {
   "cell_type": "code",
   "execution_count": 65,
   "metadata": {},
   "outputs": [
    {
     "data": {
      "text/html": [
       "<style>#sk-container-id-4 {color: black;background-color: white;}#sk-container-id-4 pre{padding: 0;}#sk-container-id-4 div.sk-toggleable {background-color: white;}#sk-container-id-4 label.sk-toggleable__label {cursor: pointer;display: block;width: 100%;margin-bottom: 0;padding: 0.3em;box-sizing: border-box;text-align: center;}#sk-container-id-4 label.sk-toggleable__label-arrow:before {content: \"▸\";float: left;margin-right: 0.25em;color: #696969;}#sk-container-id-4 label.sk-toggleable__label-arrow:hover:before {color: black;}#sk-container-id-4 div.sk-estimator:hover label.sk-toggleable__label-arrow:before {color: black;}#sk-container-id-4 div.sk-toggleable__content {max-height: 0;max-width: 0;overflow: hidden;text-align: left;background-color: #f0f8ff;}#sk-container-id-4 div.sk-toggleable__content pre {margin: 0.2em;color: black;border-radius: 0.25em;background-color: #f0f8ff;}#sk-container-id-4 input.sk-toggleable__control:checked~div.sk-toggleable__content {max-height: 200px;max-width: 100%;overflow: auto;}#sk-container-id-4 input.sk-toggleable__control:checked~label.sk-toggleable__label-arrow:before {content: \"▾\";}#sk-container-id-4 div.sk-estimator input.sk-toggleable__control:checked~label.sk-toggleable__label {background-color: #d4ebff;}#sk-container-id-4 div.sk-label input.sk-toggleable__control:checked~label.sk-toggleable__label {background-color: #d4ebff;}#sk-container-id-4 input.sk-hidden--visually {border: 0;clip: rect(1px 1px 1px 1px);clip: rect(1px, 1px, 1px, 1px);height: 1px;margin: -1px;overflow: hidden;padding: 0;position: absolute;width: 1px;}#sk-container-id-4 div.sk-estimator {font-family: monospace;background-color: #f0f8ff;border: 1px dotted black;border-radius: 0.25em;box-sizing: border-box;margin-bottom: 0.5em;}#sk-container-id-4 div.sk-estimator:hover {background-color: #d4ebff;}#sk-container-id-4 div.sk-parallel-item::after {content: \"\";width: 100%;border-bottom: 1px solid gray;flex-grow: 1;}#sk-container-id-4 div.sk-label:hover label.sk-toggleable__label {background-color: #d4ebff;}#sk-container-id-4 div.sk-serial::before {content: \"\";position: absolute;border-left: 1px solid gray;box-sizing: border-box;top: 0;bottom: 0;left: 50%;z-index: 0;}#sk-container-id-4 div.sk-serial {display: flex;flex-direction: column;align-items: center;background-color: white;padding-right: 0.2em;padding-left: 0.2em;position: relative;}#sk-container-id-4 div.sk-item {position: relative;z-index: 1;}#sk-container-id-4 div.sk-parallel {display: flex;align-items: stretch;justify-content: center;background-color: white;position: relative;}#sk-container-id-4 div.sk-item::before, #sk-container-id-4 div.sk-parallel-item::before {content: \"\";position: absolute;border-left: 1px solid gray;box-sizing: border-box;top: 0;bottom: 0;left: 50%;z-index: -1;}#sk-container-id-4 div.sk-parallel-item {display: flex;flex-direction: column;z-index: 1;position: relative;background-color: white;}#sk-container-id-4 div.sk-parallel-item:first-child::after {align-self: flex-end;width: 50%;}#sk-container-id-4 div.sk-parallel-item:last-child::after {align-self: flex-start;width: 50%;}#sk-container-id-4 div.sk-parallel-item:only-child::after {width: 0;}#sk-container-id-4 div.sk-dashed-wrapped {border: 1px dashed gray;margin: 0 0.4em 0.5em 0.4em;box-sizing: border-box;padding-bottom: 0.4em;background-color: white;}#sk-container-id-4 div.sk-label label {font-family: monospace;font-weight: bold;display: inline-block;line-height: 1.2em;}#sk-container-id-4 div.sk-label-container {text-align: center;}#sk-container-id-4 div.sk-container {/* jupyter's `normalize.less` sets `[hidden] { display: none; }` but bootstrap.min.css set `[hidden] { display: none !important; }` so we also need the `!important` here to be able to override the default hidden behavior on the sphinx rendered scikit-learn.org. See: https://github.com/scikit-learn/scikit-learn/issues/21755 */display: inline-block !important;position: relative;}#sk-container-id-4 div.sk-text-repr-fallback {display: none;}</style><div id=\"sk-container-id-4\" class=\"sk-top-container\"><div class=\"sk-text-repr-fallback\"><pre>Pipeline(steps=[(&#x27;preprocess&#x27;,\n",
       "                 ColumnTransformer(transformers=[(&#x27;cat_ord&#x27;,\n",
       "                                                  Pipeline(steps=[(&#x27;ordinal_enc&#x27;,\n",
       "                                                                   OrdinalEncoder(categories=[[&#x27;Rural&#x27;,\n",
       "                                                                                               &#x27;Suburban&#x27;,\n",
       "                                                                                               &#x27;Urban&#x27;],\n",
       "                                                                                              [&#x27;Non-public&#x27;,\n",
       "                                                                                               &#x27;Public&#x27;],\n",
       "                                                                                              [&#x27;Experimental&#x27;,\n",
       "                                                                                               &#x27;Standard&#x27;],\n",
       "                                                                                              [&#x27;Does &#x27;\n",
       "                                                                                               &#x27;not &#x27;\n",
       "                                                                                               &#x27;qualify&#x27;,\n",
       "                                                                                               &#x27;Qualifies &#x27;\n",
       "                                                                                               &#x27;for &#x27;\n",
       "                                                                                               &#x27;reduced/free &#x27;\n",
       "                                                                                               &#x27;lunch&#x27;]]))]),\n",
       "                                                  [&#x27;school_setting&#x27;,\n",
       "                                                   &#x27;school_type&#x27;,\n",
       "                                                   &#x27;teaching_method&#x27;,\n",
       "                                                   &#x27;lunch&#x27;]),\n",
       "                                                 (&#x27;cat_ohe&#x27;,\n",
       "                                                  Pipeline(steps=[(&#x27;ohe_enc&#x27;,\n",
       "                                                                   OneHotEncoder(sparse=False))]),\n",
       "                                                  [&#x27;gender&#x27;])])),\n",
       "                (&#x27;classification&#x27;,\n",
       "                 DecisionTreeClassifier(max_depth=5, min_samples_leaf=35,\n",
       "                                        random_state=42))])</pre><b>In a Jupyter environment, please rerun this cell to show the HTML representation or trust the notebook. <br />On GitHub, the HTML representation is unable to render, please try loading this page with nbviewer.org.</b></div><div class=\"sk-container\" hidden><div class=\"sk-item sk-dashed-wrapped\"><div class=\"sk-label-container\"><div class=\"sk-label sk-toggleable\"><input class=\"sk-toggleable__control sk-hidden--visually\" id=\"sk-estimator-id-14\" type=\"checkbox\" ><label for=\"sk-estimator-id-14\" class=\"sk-toggleable__label sk-toggleable__label-arrow\">Pipeline</label><div class=\"sk-toggleable__content\"><pre>Pipeline(steps=[(&#x27;preprocess&#x27;,\n",
       "                 ColumnTransformer(transformers=[(&#x27;cat_ord&#x27;,\n",
       "                                                  Pipeline(steps=[(&#x27;ordinal_enc&#x27;,\n",
       "                                                                   OrdinalEncoder(categories=[[&#x27;Rural&#x27;,\n",
       "                                                                                               &#x27;Suburban&#x27;,\n",
       "                                                                                               &#x27;Urban&#x27;],\n",
       "                                                                                              [&#x27;Non-public&#x27;,\n",
       "                                                                                               &#x27;Public&#x27;],\n",
       "                                                                                              [&#x27;Experimental&#x27;,\n",
       "                                                                                               &#x27;Standard&#x27;],\n",
       "                                                                                              [&#x27;Does &#x27;\n",
       "                                                                                               &#x27;not &#x27;\n",
       "                                                                                               &#x27;qualify&#x27;,\n",
       "                                                                                               &#x27;Qualifies &#x27;\n",
       "                                                                                               &#x27;for &#x27;\n",
       "                                                                                               &#x27;reduced/free &#x27;\n",
       "                                                                                               &#x27;lunch&#x27;]]))]),\n",
       "                                                  [&#x27;school_setting&#x27;,\n",
       "                                                   &#x27;school_type&#x27;,\n",
       "                                                   &#x27;teaching_method&#x27;,\n",
       "                                                   &#x27;lunch&#x27;]),\n",
       "                                                 (&#x27;cat_ohe&#x27;,\n",
       "                                                  Pipeline(steps=[(&#x27;ohe_enc&#x27;,\n",
       "                                                                   OneHotEncoder(sparse=False))]),\n",
       "                                                  [&#x27;gender&#x27;])])),\n",
       "                (&#x27;classification&#x27;,\n",
       "                 DecisionTreeClassifier(max_depth=5, min_samples_leaf=35,\n",
       "                                        random_state=42))])</pre></div></div></div><div class=\"sk-serial\"><div class=\"sk-item sk-dashed-wrapped\"><div class=\"sk-label-container\"><div class=\"sk-label sk-toggleable\"><input class=\"sk-toggleable__control sk-hidden--visually\" id=\"sk-estimator-id-15\" type=\"checkbox\" ><label for=\"sk-estimator-id-15\" class=\"sk-toggleable__label sk-toggleable__label-arrow\">preprocess: ColumnTransformer</label><div class=\"sk-toggleable__content\"><pre>ColumnTransformer(transformers=[(&#x27;cat_ord&#x27;,\n",
       "                                 Pipeline(steps=[(&#x27;ordinal_enc&#x27;,\n",
       "                                                  OrdinalEncoder(categories=[[&#x27;Rural&#x27;,\n",
       "                                                                              &#x27;Suburban&#x27;,\n",
       "                                                                              &#x27;Urban&#x27;],\n",
       "                                                                             [&#x27;Non-public&#x27;,\n",
       "                                                                              &#x27;Public&#x27;],\n",
       "                                                                             [&#x27;Experimental&#x27;,\n",
       "                                                                              &#x27;Standard&#x27;],\n",
       "                                                                             [&#x27;Does &#x27;\n",
       "                                                                              &#x27;not &#x27;\n",
       "                                                                              &#x27;qualify&#x27;,\n",
       "                                                                              &#x27;Qualifies &#x27;\n",
       "                                                                              &#x27;for &#x27;\n",
       "                                                                              &#x27;reduced/free &#x27;\n",
       "                                                                              &#x27;lunch&#x27;]]))]),\n",
       "                                 [&#x27;school_setting&#x27;, &#x27;school_type&#x27;,\n",
       "                                  &#x27;teaching_method&#x27;, &#x27;lunch&#x27;]),\n",
       "                                (&#x27;cat_ohe&#x27;,\n",
       "                                 Pipeline(steps=[(&#x27;ohe_enc&#x27;,\n",
       "                                                  OneHotEncoder(sparse=False))]),\n",
       "                                 [&#x27;gender&#x27;])])</pre></div></div></div><div class=\"sk-parallel\"><div class=\"sk-parallel-item\"><div class=\"sk-item\"><div class=\"sk-label-container\"><div class=\"sk-label sk-toggleable\"><input class=\"sk-toggleable__control sk-hidden--visually\" id=\"sk-estimator-id-16\" type=\"checkbox\" ><label for=\"sk-estimator-id-16\" class=\"sk-toggleable__label sk-toggleable__label-arrow\">cat_ord</label><div class=\"sk-toggleable__content\"><pre>[&#x27;school_setting&#x27;, &#x27;school_type&#x27;, &#x27;teaching_method&#x27;, &#x27;lunch&#x27;]</pre></div></div></div><div class=\"sk-serial\"><div class=\"sk-item\"><div class=\"sk-serial\"><div class=\"sk-item\"><div class=\"sk-estimator sk-toggleable\"><input class=\"sk-toggleable__control sk-hidden--visually\" id=\"sk-estimator-id-17\" type=\"checkbox\" ><label for=\"sk-estimator-id-17\" class=\"sk-toggleable__label sk-toggleable__label-arrow\">OrdinalEncoder</label><div class=\"sk-toggleable__content\"><pre>OrdinalEncoder(categories=[[&#x27;Rural&#x27;, &#x27;Suburban&#x27;, &#x27;Urban&#x27;],\n",
       "                           [&#x27;Non-public&#x27;, &#x27;Public&#x27;],\n",
       "                           [&#x27;Experimental&#x27;, &#x27;Standard&#x27;],\n",
       "                           [&#x27;Does not qualify&#x27;,\n",
       "                            &#x27;Qualifies for reduced/free lunch&#x27;]])</pre></div></div></div></div></div></div></div></div><div class=\"sk-parallel-item\"><div class=\"sk-item\"><div class=\"sk-label-container\"><div class=\"sk-label sk-toggleable\"><input class=\"sk-toggleable__control sk-hidden--visually\" id=\"sk-estimator-id-18\" type=\"checkbox\" ><label for=\"sk-estimator-id-18\" class=\"sk-toggleable__label sk-toggleable__label-arrow\">cat_ohe</label><div class=\"sk-toggleable__content\"><pre>[&#x27;gender&#x27;]</pre></div></div></div><div class=\"sk-serial\"><div class=\"sk-item\"><div class=\"sk-serial\"><div class=\"sk-item\"><div class=\"sk-estimator sk-toggleable\"><input class=\"sk-toggleable__control sk-hidden--visually\" id=\"sk-estimator-id-19\" type=\"checkbox\" ><label for=\"sk-estimator-id-19\" class=\"sk-toggleable__label sk-toggleable__label-arrow\">OneHotEncoder</label><div class=\"sk-toggleable__content\"><pre>OneHotEncoder(sparse=False)</pre></div></div></div></div></div></div></div></div></div></div><div class=\"sk-item\"><div class=\"sk-estimator sk-toggleable\"><input class=\"sk-toggleable__control sk-hidden--visually\" id=\"sk-estimator-id-20\" type=\"checkbox\" ><label for=\"sk-estimator-id-20\" class=\"sk-toggleable__label sk-toggleable__label-arrow\">DecisionTreeClassifier</label><div class=\"sk-toggleable__content\"><pre>DecisionTreeClassifier(max_depth=5, min_samples_leaf=35, random_state=42)</pre></div></div></div></div></div></div></div>"
      ],
      "text/plain": [
       "Pipeline(steps=[('preprocess',\n",
       "                 ColumnTransformer(transformers=[('cat_ord',\n",
       "                                                  Pipeline(steps=[('ordinal_enc',\n",
       "                                                                   OrdinalEncoder(categories=[['Rural',\n",
       "                                                                                               'Suburban',\n",
       "                                                                                               'Urban'],\n",
       "                                                                                              ['Non-public',\n",
       "                                                                                               'Public'],\n",
       "                                                                                              ['Experimental',\n",
       "                                                                                               'Standard'],\n",
       "                                                                                              ['Does '\n",
       "                                                                                               'not '\n",
       "                                                                                               'qualify',\n",
       "                                                                                               'Qualifies '\n",
       "                                                                                               'for '\n",
       "                                                                                               'reduced/free '\n",
       "                                                                                               'lunch']]))]),\n",
       "                                                  ['school_setting',\n",
       "                                                   'school_type',\n",
       "                                                   'teaching_method',\n",
       "                                                   'lunch']),\n",
       "                                                 ('cat_ohe',\n",
       "                                                  Pipeline(steps=[('ohe_enc',\n",
       "                                                                   OneHotEncoder(sparse=False))]),\n",
       "                                                  ['gender'])])),\n",
       "                ('classification',\n",
       "                 DecisionTreeClassifier(max_depth=5, min_samples_leaf=35,\n",
       "                                        random_state=42))])"
      ]
     },
     "execution_count": 65,
     "metadata": {},
     "output_type": "execute_result"
    }
   ],
   "source": [
    "all_process"
   ]
  },
  {
   "cell_type": "markdown",
   "metadata": {},
   "source": [
    "#### MODEL INFERENCE"
   ]
  },
  {
   "cell_type": "code",
   "execution_count": 67,
   "metadata": {},
   "outputs": [
    {
     "data": {
      "text/html": [
       "<div>\n",
       "<style scoped>\n",
       "    .dataframe tbody tr th:only-of-type {\n",
       "        vertical-align: middle;\n",
       "    }\n",
       "\n",
       "    .dataframe tbody tr th {\n",
       "        vertical-align: top;\n",
       "    }\n",
       "\n",
       "    .dataframe thead th {\n",
       "        text-align: right;\n",
       "    }\n",
       "</style>\n",
       "<table border=\"1\" class=\"dataframe\">\n",
       "  <thead>\n",
       "    <tr style=\"text-align: right;\">\n",
       "      <th></th>\n",
       "      <th>school_setting</th>\n",
       "      <th>school_type</th>\n",
       "      <th>teaching_method</th>\n",
       "      <th>gender</th>\n",
       "      <th>lunch</th>\n",
       "      <th>student_n</th>\n",
       "      <th>pre_test</th>\n",
       "      <th>post_test</th>\n",
       "    </tr>\n",
       "  </thead>\n",
       "  <tbody>\n",
       "    <tr>\n",
       "      <th>0</th>\n",
       "      <td>Rural</td>\n",
       "      <td>Public</td>\n",
       "      <td>Standard</td>\n",
       "      <td>Female</td>\n",
       "      <td>Qualifies for reduced/free lunch</td>\n",
       "      <td>1</td>\n",
       "      <td>1</td>\n",
       "      <td>1</td>\n",
       "    </tr>\n",
       "    <tr>\n",
       "      <th>1</th>\n",
       "      <td>Urban</td>\n",
       "      <td>Public</td>\n",
       "      <td>Standard</td>\n",
       "      <td>Male</td>\n",
       "      <td>Does not qualify</td>\n",
       "      <td>1</td>\n",
       "      <td>1</td>\n",
       "      <td>1</td>\n",
       "    </tr>\n",
       "    <tr>\n",
       "      <th>2</th>\n",
       "      <td>Urban</td>\n",
       "      <td>Non-public</td>\n",
       "      <td>Experimental</td>\n",
       "      <td>Male</td>\n",
       "      <td>Does not qualify</td>\n",
       "      <td>1</td>\n",
       "      <td>0</td>\n",
       "      <td>0</td>\n",
       "    </tr>\n",
       "    <tr>\n",
       "      <th>3</th>\n",
       "      <td>Suburban</td>\n",
       "      <td>Public</td>\n",
       "      <td>Experimental</td>\n",
       "      <td>Male</td>\n",
       "      <td>Does not qualify</td>\n",
       "      <td>0</td>\n",
       "      <td>1</td>\n",
       "      <td>1</td>\n",
       "    </tr>\n",
       "    <tr>\n",
       "      <th>4</th>\n",
       "      <td>Rural</td>\n",
       "      <td>Public</td>\n",
       "      <td>Standard</td>\n",
       "      <td>Female</td>\n",
       "      <td>Does not qualify</td>\n",
       "      <td>0</td>\n",
       "      <td>1</td>\n",
       "      <td>1</td>\n",
       "    </tr>\n",
       "    <tr>\n",
       "      <th>5</th>\n",
       "      <td>Rural</td>\n",
       "      <td>Public</td>\n",
       "      <td>Standard</td>\n",
       "      <td>Female</td>\n",
       "      <td>Does not qualify</td>\n",
       "      <td>1</td>\n",
       "      <td>1</td>\n",
       "      <td>1</td>\n",
       "    </tr>\n",
       "    <tr>\n",
       "      <th>6</th>\n",
       "      <td>Rural</td>\n",
       "      <td>Public</td>\n",
       "      <td>Standard</td>\n",
       "      <td>Male</td>\n",
       "      <td>Qualifies for reduced/free lunch</td>\n",
       "      <td>1</td>\n",
       "      <td>1</td>\n",
       "      <td>1</td>\n",
       "    </tr>\n",
       "    <tr>\n",
       "      <th>7</th>\n",
       "      <td>Suburban</td>\n",
       "      <td>Public</td>\n",
       "      <td>Standard</td>\n",
       "      <td>Female</td>\n",
       "      <td>Qualifies for reduced/free lunch</td>\n",
       "      <td>1</td>\n",
       "      <td>1</td>\n",
       "      <td>1</td>\n",
       "    </tr>\n",
       "    <tr>\n",
       "      <th>8</th>\n",
       "      <td>Urban</td>\n",
       "      <td>Public</td>\n",
       "      <td>Standard</td>\n",
       "      <td>Female</td>\n",
       "      <td>Does not qualify</td>\n",
       "      <td>1</td>\n",
       "      <td>1</td>\n",
       "      <td>1</td>\n",
       "    </tr>\n",
       "    <tr>\n",
       "      <th>9</th>\n",
       "      <td>Rural</td>\n",
       "      <td>Public</td>\n",
       "      <td>Standard</td>\n",
       "      <td>Female</td>\n",
       "      <td>Does not qualify</td>\n",
       "      <td>0</td>\n",
       "      <td>1</td>\n",
       "      <td>1</td>\n",
       "    </tr>\n",
       "    <tr>\n",
       "      <th>10</th>\n",
       "      <td>Urban</td>\n",
       "      <td>Public</td>\n",
       "      <td>Standard</td>\n",
       "      <td>Male</td>\n",
       "      <td>Qualifies for reduced/free lunch</td>\n",
       "      <td>1</td>\n",
       "      <td>1</td>\n",
       "      <td>1</td>\n",
       "    </tr>\n",
       "    <tr>\n",
       "      <th>11</th>\n",
       "      <td>Urban</td>\n",
       "      <td>Public</td>\n",
       "      <td>Experimental</td>\n",
       "      <td>Female</td>\n",
       "      <td>Does not qualify</td>\n",
       "      <td>1</td>\n",
       "      <td>1</td>\n",
       "      <td>1</td>\n",
       "    </tr>\n",
       "    <tr>\n",
       "      <th>12</th>\n",
       "      <td>Rural</td>\n",
       "      <td>Public</td>\n",
       "      <td>Standard</td>\n",
       "      <td>Male</td>\n",
       "      <td>Qualifies for reduced/free lunch</td>\n",
       "      <td>0</td>\n",
       "      <td>1</td>\n",
       "      <td>1</td>\n",
       "    </tr>\n",
       "    <tr>\n",
       "      <th>13</th>\n",
       "      <td>Urban</td>\n",
       "      <td>Public</td>\n",
       "      <td>Experimental</td>\n",
       "      <td>Male</td>\n",
       "      <td>Qualifies for reduced/free lunch</td>\n",
       "      <td>1</td>\n",
       "      <td>1</td>\n",
       "      <td>1</td>\n",
       "    </tr>\n",
       "    <tr>\n",
       "      <th>14</th>\n",
       "      <td>Urban</td>\n",
       "      <td>Public</td>\n",
       "      <td>Standard</td>\n",
       "      <td>Male</td>\n",
       "      <td>Does not qualify</td>\n",
       "      <td>1</td>\n",
       "      <td>1</td>\n",
       "      <td>1</td>\n",
       "    </tr>\n",
       "    <tr>\n",
       "      <th>15</th>\n",
       "      <td>Urban</td>\n",
       "      <td>Public</td>\n",
       "      <td>Standard</td>\n",
       "      <td>Female</td>\n",
       "      <td>Qualifies for reduced/free lunch</td>\n",
       "      <td>1</td>\n",
       "      <td>1</td>\n",
       "      <td>1</td>\n",
       "    </tr>\n",
       "    <tr>\n",
       "      <th>16</th>\n",
       "      <td>Urban</td>\n",
       "      <td>Public</td>\n",
       "      <td>Standard</td>\n",
       "      <td>Female</td>\n",
       "      <td>Does not qualify</td>\n",
       "      <td>1</td>\n",
       "      <td>1</td>\n",
       "      <td>1</td>\n",
       "    </tr>\n",
       "    <tr>\n",
       "      <th>17</th>\n",
       "      <td>Suburban</td>\n",
       "      <td>Public</td>\n",
       "      <td>Standard</td>\n",
       "      <td>Male</td>\n",
       "      <td>Does not qualify</td>\n",
       "      <td>1</td>\n",
       "      <td>1</td>\n",
       "      <td>1</td>\n",
       "    </tr>\n",
       "    <tr>\n",
       "      <th>18</th>\n",
       "      <td>Suburban</td>\n",
       "      <td>Public</td>\n",
       "      <td>Standard</td>\n",
       "      <td>Female</td>\n",
       "      <td>Qualifies for reduced/free lunch</td>\n",
       "      <td>1</td>\n",
       "      <td>1</td>\n",
       "      <td>1</td>\n",
       "    </tr>\n",
       "    <tr>\n",
       "      <th>19</th>\n",
       "      <td>Suburban</td>\n",
       "      <td>Public</td>\n",
       "      <td>Standard</td>\n",
       "      <td>Female</td>\n",
       "      <td>Qualifies for reduced/free lunch</td>\n",
       "      <td>1</td>\n",
       "      <td>1</td>\n",
       "      <td>1</td>\n",
       "    </tr>\n",
       "  </tbody>\n",
       "</table>\n",
       "</div>"
      ],
      "text/plain": [
       "   school_setting school_type teaching_method  gender  \\\n",
       "0           Rural      Public        Standard  Female   \n",
       "1           Urban      Public        Standard    Male   \n",
       "2           Urban  Non-public    Experimental    Male   \n",
       "3        Suburban      Public    Experimental    Male   \n",
       "4           Rural      Public        Standard  Female   \n",
       "5           Rural      Public        Standard  Female   \n",
       "6           Rural      Public        Standard    Male   \n",
       "7        Suburban      Public        Standard  Female   \n",
       "8           Urban      Public        Standard  Female   \n",
       "9           Rural      Public        Standard  Female   \n",
       "10          Urban      Public        Standard    Male   \n",
       "11          Urban      Public    Experimental  Female   \n",
       "12          Rural      Public        Standard    Male   \n",
       "13          Urban      Public    Experimental    Male   \n",
       "14          Urban      Public        Standard    Male   \n",
       "15          Urban      Public        Standard  Female   \n",
       "16          Urban      Public        Standard  Female   \n",
       "17       Suburban      Public        Standard    Male   \n",
       "18       Suburban      Public        Standard  Female   \n",
       "19       Suburban      Public        Standard  Female   \n",
       "\n",
       "                               lunch  student_n  pre_test  post_test  \n",
       "0   Qualifies for reduced/free lunch          1         1          1  \n",
       "1                   Does not qualify          1         1          1  \n",
       "2                   Does not qualify          1         0          0  \n",
       "3                   Does not qualify          0         1          1  \n",
       "4                   Does not qualify          0         1          1  \n",
       "5                   Does not qualify          1         1          1  \n",
       "6   Qualifies for reduced/free lunch          1         1          1  \n",
       "7   Qualifies for reduced/free lunch          1         1          1  \n",
       "8                   Does not qualify          1         1          1  \n",
       "9                   Does not qualify          0         1          1  \n",
       "10  Qualifies for reduced/free lunch          1         1          1  \n",
       "11                  Does not qualify          1         1          1  \n",
       "12  Qualifies for reduced/free lunch          0         1          1  \n",
       "13  Qualifies for reduced/free lunch          1         1          1  \n",
       "14                  Does not qualify          1         1          1  \n",
       "15  Qualifies for reduced/free lunch          1         1          1  \n",
       "16                  Does not qualify          1         1          1  \n",
       "17                  Does not qualify          1         1          1  \n",
       "18  Qualifies for reduced/free lunch          1         1          1  \n",
       "19  Qualifies for reduced/free lunch          1         1          1  "
      ]
     },
     "execution_count": 67,
     "metadata": {},
     "output_type": "execute_result"
    }
   ],
   "source": [
    "inf = inference.reset_index(drop=True)\n",
    "inf"
   ]
  },
  {
   "cell_type": "code",
   "execution_count": 68,
   "metadata": {},
   "outputs": [],
   "source": [
    "X_inf = inf.drop('post_test',axis=1).copy()\n",
    "y_inf = inf['post_test']"
   ]
  },
  {
   "cell_type": "code",
   "execution_count": 69,
   "metadata": {},
   "outputs": [
    {
     "data": {
      "text/plain": [
       "array([1, 1, 0, 0, 1, 1, 1, 1, 1, 1, 1, 1, 1, 1, 1, 1, 1, 0, 1, 1],\n",
       "      dtype=int64)"
      ]
     },
     "execution_count": 69,
     "metadata": {},
     "output_type": "execute_result"
    }
   ],
   "source": [
    "all_process.predict(X_inf)"
   ]
  },
  {
   "cell_type": "code",
   "execution_count": 70,
   "metadata": {},
   "outputs": [],
   "source": [
    "inf_y = all_process.predict(X_inf)"
   ]
  },
  {
   "cell_type": "code",
   "execution_count": 71,
   "metadata": {},
   "outputs": [],
   "source": [
    "df_inf_y = pd.DataFrame(inf_y, columns=['Prediksi_grade'])"
   ]
  },
  {
   "cell_type": "code",
   "execution_count": 72,
   "metadata": {},
   "outputs": [
    {
     "data": {
      "text/html": [
       "<div>\n",
       "<style scoped>\n",
       "    .dataframe tbody tr th:only-of-type {\n",
       "        vertical-align: middle;\n",
       "    }\n",
       "\n",
       "    .dataframe tbody tr th {\n",
       "        vertical-align: top;\n",
       "    }\n",
       "\n",
       "    .dataframe thead th {\n",
       "        text-align: right;\n",
       "    }\n",
       "</style>\n",
       "<table border=\"1\" class=\"dataframe\">\n",
       "  <thead>\n",
       "    <tr style=\"text-align: right;\">\n",
       "      <th></th>\n",
       "      <th>school_setting</th>\n",
       "      <th>school_type</th>\n",
       "      <th>teaching_method</th>\n",
       "      <th>gender</th>\n",
       "      <th>lunch</th>\n",
       "      <th>student_n</th>\n",
       "      <th>pre_test</th>\n",
       "      <th>post_test</th>\n",
       "      <th>Prediksi_grade</th>\n",
       "    </tr>\n",
       "  </thead>\n",
       "  <tbody>\n",
       "    <tr>\n",
       "      <th>0</th>\n",
       "      <td>Rural</td>\n",
       "      <td>Public</td>\n",
       "      <td>Standard</td>\n",
       "      <td>Female</td>\n",
       "      <td>Qualifies for reduced/free lunch</td>\n",
       "      <td>1</td>\n",
       "      <td>1</td>\n",
       "      <td>1</td>\n",
       "      <td>1</td>\n",
       "    </tr>\n",
       "    <tr>\n",
       "      <th>1</th>\n",
       "      <td>Urban</td>\n",
       "      <td>Public</td>\n",
       "      <td>Standard</td>\n",
       "      <td>Male</td>\n",
       "      <td>Does not qualify</td>\n",
       "      <td>1</td>\n",
       "      <td>1</td>\n",
       "      <td>1</td>\n",
       "      <td>1</td>\n",
       "    </tr>\n",
       "    <tr>\n",
       "      <th>2</th>\n",
       "      <td>Urban</td>\n",
       "      <td>Non-public</td>\n",
       "      <td>Experimental</td>\n",
       "      <td>Male</td>\n",
       "      <td>Does not qualify</td>\n",
       "      <td>1</td>\n",
       "      <td>0</td>\n",
       "      <td>0</td>\n",
       "      <td>0</td>\n",
       "    </tr>\n",
       "    <tr>\n",
       "      <th>3</th>\n",
       "      <td>Suburban</td>\n",
       "      <td>Public</td>\n",
       "      <td>Experimental</td>\n",
       "      <td>Male</td>\n",
       "      <td>Does not qualify</td>\n",
       "      <td>0</td>\n",
       "      <td>1</td>\n",
       "      <td>1</td>\n",
       "      <td>0</td>\n",
       "    </tr>\n",
       "    <tr>\n",
       "      <th>4</th>\n",
       "      <td>Rural</td>\n",
       "      <td>Public</td>\n",
       "      <td>Standard</td>\n",
       "      <td>Female</td>\n",
       "      <td>Does not qualify</td>\n",
       "      <td>0</td>\n",
       "      <td>1</td>\n",
       "      <td>1</td>\n",
       "      <td>1</td>\n",
       "    </tr>\n",
       "    <tr>\n",
       "      <th>5</th>\n",
       "      <td>Rural</td>\n",
       "      <td>Public</td>\n",
       "      <td>Standard</td>\n",
       "      <td>Female</td>\n",
       "      <td>Does not qualify</td>\n",
       "      <td>1</td>\n",
       "      <td>1</td>\n",
       "      <td>1</td>\n",
       "      <td>1</td>\n",
       "    </tr>\n",
       "    <tr>\n",
       "      <th>6</th>\n",
       "      <td>Rural</td>\n",
       "      <td>Public</td>\n",
       "      <td>Standard</td>\n",
       "      <td>Male</td>\n",
       "      <td>Qualifies for reduced/free lunch</td>\n",
       "      <td>1</td>\n",
       "      <td>1</td>\n",
       "      <td>1</td>\n",
       "      <td>1</td>\n",
       "    </tr>\n",
       "    <tr>\n",
       "      <th>7</th>\n",
       "      <td>Suburban</td>\n",
       "      <td>Public</td>\n",
       "      <td>Standard</td>\n",
       "      <td>Female</td>\n",
       "      <td>Qualifies for reduced/free lunch</td>\n",
       "      <td>1</td>\n",
       "      <td>1</td>\n",
       "      <td>1</td>\n",
       "      <td>1</td>\n",
       "    </tr>\n",
       "    <tr>\n",
       "      <th>8</th>\n",
       "      <td>Urban</td>\n",
       "      <td>Public</td>\n",
       "      <td>Standard</td>\n",
       "      <td>Female</td>\n",
       "      <td>Does not qualify</td>\n",
       "      <td>1</td>\n",
       "      <td>1</td>\n",
       "      <td>1</td>\n",
       "      <td>1</td>\n",
       "    </tr>\n",
       "    <tr>\n",
       "      <th>9</th>\n",
       "      <td>Rural</td>\n",
       "      <td>Public</td>\n",
       "      <td>Standard</td>\n",
       "      <td>Female</td>\n",
       "      <td>Does not qualify</td>\n",
       "      <td>0</td>\n",
       "      <td>1</td>\n",
       "      <td>1</td>\n",
       "      <td>1</td>\n",
       "    </tr>\n",
       "    <tr>\n",
       "      <th>10</th>\n",
       "      <td>Urban</td>\n",
       "      <td>Public</td>\n",
       "      <td>Standard</td>\n",
       "      <td>Male</td>\n",
       "      <td>Qualifies for reduced/free lunch</td>\n",
       "      <td>1</td>\n",
       "      <td>1</td>\n",
       "      <td>1</td>\n",
       "      <td>1</td>\n",
       "    </tr>\n",
       "    <tr>\n",
       "      <th>11</th>\n",
       "      <td>Urban</td>\n",
       "      <td>Public</td>\n",
       "      <td>Experimental</td>\n",
       "      <td>Female</td>\n",
       "      <td>Does not qualify</td>\n",
       "      <td>1</td>\n",
       "      <td>1</td>\n",
       "      <td>1</td>\n",
       "      <td>1</td>\n",
       "    </tr>\n",
       "    <tr>\n",
       "      <th>12</th>\n",
       "      <td>Rural</td>\n",
       "      <td>Public</td>\n",
       "      <td>Standard</td>\n",
       "      <td>Male</td>\n",
       "      <td>Qualifies for reduced/free lunch</td>\n",
       "      <td>0</td>\n",
       "      <td>1</td>\n",
       "      <td>1</td>\n",
       "      <td>1</td>\n",
       "    </tr>\n",
       "    <tr>\n",
       "      <th>13</th>\n",
       "      <td>Urban</td>\n",
       "      <td>Public</td>\n",
       "      <td>Experimental</td>\n",
       "      <td>Male</td>\n",
       "      <td>Qualifies for reduced/free lunch</td>\n",
       "      <td>1</td>\n",
       "      <td>1</td>\n",
       "      <td>1</td>\n",
       "      <td>1</td>\n",
       "    </tr>\n",
       "    <tr>\n",
       "      <th>14</th>\n",
       "      <td>Urban</td>\n",
       "      <td>Public</td>\n",
       "      <td>Standard</td>\n",
       "      <td>Male</td>\n",
       "      <td>Does not qualify</td>\n",
       "      <td>1</td>\n",
       "      <td>1</td>\n",
       "      <td>1</td>\n",
       "      <td>1</td>\n",
       "    </tr>\n",
       "    <tr>\n",
       "      <th>15</th>\n",
       "      <td>Urban</td>\n",
       "      <td>Public</td>\n",
       "      <td>Standard</td>\n",
       "      <td>Female</td>\n",
       "      <td>Qualifies for reduced/free lunch</td>\n",
       "      <td>1</td>\n",
       "      <td>1</td>\n",
       "      <td>1</td>\n",
       "      <td>1</td>\n",
       "    </tr>\n",
       "    <tr>\n",
       "      <th>16</th>\n",
       "      <td>Urban</td>\n",
       "      <td>Public</td>\n",
       "      <td>Standard</td>\n",
       "      <td>Female</td>\n",
       "      <td>Does not qualify</td>\n",
       "      <td>1</td>\n",
       "      <td>1</td>\n",
       "      <td>1</td>\n",
       "      <td>1</td>\n",
       "    </tr>\n",
       "    <tr>\n",
       "      <th>17</th>\n",
       "      <td>Suburban</td>\n",
       "      <td>Public</td>\n",
       "      <td>Standard</td>\n",
       "      <td>Male</td>\n",
       "      <td>Does not qualify</td>\n",
       "      <td>1</td>\n",
       "      <td>1</td>\n",
       "      <td>1</td>\n",
       "      <td>0</td>\n",
       "    </tr>\n",
       "    <tr>\n",
       "      <th>18</th>\n",
       "      <td>Suburban</td>\n",
       "      <td>Public</td>\n",
       "      <td>Standard</td>\n",
       "      <td>Female</td>\n",
       "      <td>Qualifies for reduced/free lunch</td>\n",
       "      <td>1</td>\n",
       "      <td>1</td>\n",
       "      <td>1</td>\n",
       "      <td>1</td>\n",
       "    </tr>\n",
       "    <tr>\n",
       "      <th>19</th>\n",
       "      <td>Suburban</td>\n",
       "      <td>Public</td>\n",
       "      <td>Standard</td>\n",
       "      <td>Female</td>\n",
       "      <td>Qualifies for reduced/free lunch</td>\n",
       "      <td>1</td>\n",
       "      <td>1</td>\n",
       "      <td>1</td>\n",
       "      <td>1</td>\n",
       "    </tr>\n",
       "  </tbody>\n",
       "</table>\n",
       "</div>"
      ],
      "text/plain": [
       "   school_setting school_type teaching_method  gender  \\\n",
       "0           Rural      Public        Standard  Female   \n",
       "1           Urban      Public        Standard    Male   \n",
       "2           Urban  Non-public    Experimental    Male   \n",
       "3        Suburban      Public    Experimental    Male   \n",
       "4           Rural      Public        Standard  Female   \n",
       "5           Rural      Public        Standard  Female   \n",
       "6           Rural      Public        Standard    Male   \n",
       "7        Suburban      Public        Standard  Female   \n",
       "8           Urban      Public        Standard  Female   \n",
       "9           Rural      Public        Standard  Female   \n",
       "10          Urban      Public        Standard    Male   \n",
       "11          Urban      Public    Experimental  Female   \n",
       "12          Rural      Public        Standard    Male   \n",
       "13          Urban      Public    Experimental    Male   \n",
       "14          Urban      Public        Standard    Male   \n",
       "15          Urban      Public        Standard  Female   \n",
       "16          Urban      Public        Standard  Female   \n",
       "17       Suburban      Public        Standard    Male   \n",
       "18       Suburban      Public        Standard  Female   \n",
       "19       Suburban      Public        Standard  Female   \n",
       "\n",
       "                               lunch  student_n  pre_test  post_test  \\\n",
       "0   Qualifies for reduced/free lunch          1         1          1   \n",
       "1                   Does not qualify          1         1          1   \n",
       "2                   Does not qualify          1         0          0   \n",
       "3                   Does not qualify          0         1          1   \n",
       "4                   Does not qualify          0         1          1   \n",
       "5                   Does not qualify          1         1          1   \n",
       "6   Qualifies for reduced/free lunch          1         1          1   \n",
       "7   Qualifies for reduced/free lunch          1         1          1   \n",
       "8                   Does not qualify          1         1          1   \n",
       "9                   Does not qualify          0         1          1   \n",
       "10  Qualifies for reduced/free lunch          1         1          1   \n",
       "11                  Does not qualify          1         1          1   \n",
       "12  Qualifies for reduced/free lunch          0         1          1   \n",
       "13  Qualifies for reduced/free lunch          1         1          1   \n",
       "14                  Does not qualify          1         1          1   \n",
       "15  Qualifies for reduced/free lunch          1         1          1   \n",
       "16                  Does not qualify          1         1          1   \n",
       "17                  Does not qualify          1         1          1   \n",
       "18  Qualifies for reduced/free lunch          1         1          1   \n",
       "19  Qualifies for reduced/free lunch          1         1          1   \n",
       "\n",
       "    Prediksi_grade  \n",
       "0                1  \n",
       "1                1  \n",
       "2                0  \n",
       "3                0  \n",
       "4                1  \n",
       "5                1  \n",
       "6                1  \n",
       "7                1  \n",
       "8                1  \n",
       "9                1  \n",
       "10               1  \n",
       "11               1  \n",
       "12               1  \n",
       "13               1  \n",
       "14               1  \n",
       "15               1  \n",
       "16               1  \n",
       "17               0  \n",
       "18               1  \n",
       "19               1  "
      ]
     },
     "execution_count": 72,
     "metadata": {},
     "output_type": "execute_result"
    }
   ],
   "source": [
    "pd.concat([inf,df_inf_y], axis=1)"
   ]
  },
  {
   "cell_type": "markdown",
   "metadata": {},
   "source": [
    "### CONCLUSION\n",
    "\n",
    "- Data pendidikan yang digunakan berisi informasi tipe sekolah, lokasi sekolah, tipe pengajaran, jumlah siswa dalam kelas, kualitan makan siang dan nilai siswa\n",
    "- status siswa diubah kedalam dua kategori yang mana siswa dengan nilai dibawah 70 masuk kedalam kategori poor grade dan siswa dengan nilai diatas 70 masuk kedalam kategori good grade\n",
    "- penelitian berfokus pada kategori poor grade mengingat untuk memenuhi tujuan awal untuk memprediksi siswa dibawah nilai yang ditentukan\n",
    "- Cross valuation yang dilakukan kepada semua model menunjukan model Decision tree mempunyai performa terbaik dibandingkan model lainnya\n",
    "- Hyper-parameter tuning yang dilakukan sidikit memperbaiki performa model decision tree\n",
    "- Balancing pada data tidak memberikan perbaikan pada performa model"
   ]
  },
  {
   "cell_type": "markdown",
   "metadata": {},
   "source": [
    "### Model Inference - Deploy"
   ]
  },
  {
   "cell_type": "code",
   "execution_count": 73,
   "metadata": {},
   "outputs": [],
   "source": [
    "import pickle\n",
    "\n",
    "pickle.dump(all_process, open(\"M2P1_model.pkl\", \"wb\"))"
   ]
  },
  {
   "cell_type": "code",
   "execution_count": 76,
   "metadata": {},
   "outputs": [],
   "source": [
    "model_app = pickle.load(open(\"M2P1_model.pkl\", \"rb\"))"
   ]
  },
  {
   "cell_type": "code",
   "execution_count": 77,
   "metadata": {},
   "outputs": [
    {
     "data": {
      "text/plain": [
       "1"
      ]
     },
     "execution_count": 77,
     "metadata": {},
     "output_type": "execute_result"
    }
   ],
   "source": [
    "Category = model_app.predict(inf).tolist()[0]\n",
    "Category"
   ]
  },
  {
   "cell_type": "code",
   "execution_count": 78,
   "metadata": {},
   "outputs": [
    {
     "name": "stdout",
     "output_type": "stream",
     "text": [
      "Qualified to Join The Program\n"
     ]
    }
   ],
   "source": [
    "if Category == 1:\n",
    "    print(\"Qualified to Join The Program\")\n",
    "else:\n",
    "    print(\"Does't Qualified to Join The Program\")"
   ]
  }
 ],
 "metadata": {
  "kernelspec": {
   "display_name": "Python 3.9.12 ('base')",
   "language": "python",
   "name": "python3"
  },
  "language_info": {
   "codemirror_mode": {
    "name": "ipython",
    "version": 3
   },
   "file_extension": ".py",
   "mimetype": "text/x-python",
   "name": "python",
   "nbconvert_exporter": "python",
   "pygments_lexer": "ipython3",
   "version": "3.9.12"
  },
  "orig_nbformat": 4,
  "vscode": {
   "interpreter": {
    "hash": "7493e061ac2f2a93ab140fc9198bcf269be095397b0dd1d21d881918b17acecc"
   }
  }
 },
 "nbformat": 4,
 "nbformat_minor": 2
}
